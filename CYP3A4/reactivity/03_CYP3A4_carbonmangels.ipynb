{
 "cells": [
  {
   "cell_type": "code",
   "execution_count": 16,
   "id": "d9aa31b9-1bdc-4c4e-8e40-d87957469db3",
   "metadata": {},
   "outputs": [],
   "source": [
    "import pandas as pd\n",
    "from rdkit import Chem\n",
    "import seaborn as sns\n",
    "from tqdm import tqdm\n",
    "import numpy as np"
   ]
  },
  {
   "cell_type": "code",
   "execution_count": 25,
   "id": "076c4dff-ea6a-4de6-b231-8a803e5769a4",
   "metadata": {},
   "outputs": [],
   "source": [
    "tqdm.pandas()\n"
   ]
  },
  {
   "cell_type": "code",
   "execution_count": 26,
   "id": "768b5d01-aaa8-4bc1-a684-f3aa6f700281",
   "metadata": {},
   "outputs": [
    {
     "name": "stderr",
     "output_type": "stream",
     "text": [
      "Found local copy...\n",
      "Loading...\n",
      "Done!\n"
     ]
    }
   ],
   "source": [
    "from tdc.single_pred import ADME\n",
    "data = ADME(name = 'CYP3A4_Substrate_CarbonMangels')\n"
   ]
  },
  {
   "cell_type": "code",
   "execution_count": 27,
   "id": "fe70e2d8-57fc-4431-b593-cb62e262f40f",
   "metadata": {},
   "outputs": [
    {
     "data": {
      "text/html": [
       "<div>\n",
       "<style scoped>\n",
       "    .dataframe tbody tr th:only-of-type {\n",
       "        vertical-align: middle;\n",
       "    }\n",
       "\n",
       "    .dataframe tbody tr th {\n",
       "        vertical-align: top;\n",
       "    }\n",
       "\n",
       "    .dataframe thead th {\n",
       "        text-align: right;\n",
       "    }\n",
       "</style>\n",
       "<table border=\"1\" class=\"dataframe\">\n",
       "  <thead>\n",
       "    <tr style=\"text-align: right;\">\n",
       "      <th></th>\n",
       "      <th>Drug_ID</th>\n",
       "      <th>Drug</th>\n",
       "      <th>Y</th>\n",
       "    </tr>\n",
       "  </thead>\n",
       "  <tbody>\n",
       "    <tr>\n",
       "      <th>0</th>\n",
       "      <td>abacavir</td>\n",
       "      <td>Nc1nc(NC2CC2)c2ncn([C@H]3C=C[C@@H](CO)C3)c2n1</td>\n",
       "      <td>0</td>\n",
       "    </tr>\n",
       "    <tr>\n",
       "      <th>1</th>\n",
       "      <td>abecarnil</td>\n",
       "      <td>COCc1c(C(=O)OC(C)C)ncc2[nH]c3ccc(OCc4ccccc4)cc...</td>\n",
       "      <td>0</td>\n",
       "    </tr>\n",
       "    <tr>\n",
       "      <th>2</th>\n",
       "      <td>abiraterone</td>\n",
       "      <td>C[C@]12CC[C@H]3[C@@H](CC=C4C[C@@H](O)CC[C@@]43...</td>\n",
       "      <td>0</td>\n",
       "    </tr>\n",
       "    <tr>\n",
       "      <th>3</th>\n",
       "      <td>acebutolol</td>\n",
       "      <td>CCCC(=O)Nc1ccc(OC[C@@H](O)CNC(C)C)c(C(C)=O)c1</td>\n",
       "      <td>0</td>\n",
       "    </tr>\n",
       "    <tr>\n",
       "      <th>4</th>\n",
       "      <td>aceclofenac</td>\n",
       "      <td>O=C(O)COC(=O)Cc1ccccc1Nc1c(Cl)cccc1Cl</td>\n",
       "      <td>0</td>\n",
       "    </tr>\n",
       "  </tbody>\n",
       "</table>\n",
       "</div>"
      ],
      "text/plain": [
       "       Drug_ID                                               Drug  Y\n",
       "0     abacavir      Nc1nc(NC2CC2)c2ncn([C@H]3C=C[C@@H](CO)C3)c2n1  0\n",
       "1    abecarnil  COCc1c(C(=O)OC(C)C)ncc2[nH]c3ccc(OCc4ccccc4)cc...  0\n",
       "2  abiraterone  C[C@]12CC[C@H]3[C@@H](CC=C4C[C@@H](O)CC[C@@]43...  0\n",
       "3   acebutolol      CCCC(=O)Nc1ccc(OC[C@@H](O)CNC(C)C)c(C(C)=O)c1  0\n",
       "4  aceclofenac              O=C(O)COC(=O)Cc1ccccc1Nc1c(Cl)cccc1Cl  0"
      ]
     },
     "execution_count": 27,
     "metadata": {},
     "output_type": "execute_result"
    }
   ],
   "source": [
    "df = data.get_data()\n",
    "df.head()"
   ]
  },
  {
   "cell_type": "code",
   "execution_count": 28,
   "id": "c36e4fdd-aa48-42fa-ad62-38bffaee0fd2",
   "metadata": {},
   "outputs": [
    {
     "data": {
      "text/plain": [
       "<Axes: xlabel='Y', ylabel='count'>"
      ]
     },
     "execution_count": 28,
     "metadata": {},
     "output_type": "execute_result"
    },
    {
     "data": {
      "image/png": "[encoded data removed]",
      "text/plain": [
       "<Figure size 640x480 with 1 Axes>"
      ]
     },
     "metadata": {},
     "output_type": "display_data"
    }
   ],
   "source": [
    "sns.countplot(data=df, x=\"Y\")"
   ]
  },
  {
   "cell_type": "code",
   "execution_count": 29,
   "id": "ee50cf4d-408c-4063-a42e-3c2badac0386",
   "metadata": {},
   "outputs": [],
   "source": [
    "df.rename(columns={\"Drug\": \"SMILES\", \"Y\":\"Active\", \"Drug_ID\":\"common_name\"}, inplace=True)"
   ]
  },
  {
   "cell_type": "code",
   "execution_count": 30,
   "id": "e1bffec5-50cb-4948-a115-fef1bf3eff68",
   "metadata": {},
   "outputs": [
    {
     "data": {
      "text/html": [
       "<div>\n",
       "<style scoped>\n",
       "    .dataframe tbody tr th:only-of-type {\n",
       "        vertical-align: middle;\n",
       "    }\n",
       "\n",
       "    .dataframe tbody tr th {\n",
       "        vertical-align: top;\n",
       "    }\n",
       "\n",
       "    .dataframe thead th {\n",
       "        text-align: right;\n",
       "    }\n",
       "</style>\n",
       "<table border=\"1\" class=\"dataframe\">\n",
       "  <thead>\n",
       "    <tr style=\"text-align: right;\">\n",
       "      <th></th>\n",
       "      <th>common_name</th>\n",
       "      <th>SMILES</th>\n",
       "      <th>Active</th>\n",
       "    </tr>\n",
       "  </thead>\n",
       "  <tbody>\n",
       "    <tr>\n",
       "      <th>0</th>\n",
       "      <td>abacavir</td>\n",
       "      <td>Nc1nc(NC2CC2)c2ncn([C@H]3C=C[C@@H](CO)C3)c2n1</td>\n",
       "      <td>0</td>\n",
       "    </tr>\n",
       "    <tr>\n",
       "      <th>1</th>\n",
       "      <td>abecarnil</td>\n",
       "      <td>COCc1c(C(=O)OC(C)C)ncc2[nH]c3ccc(OCc4ccccc4)cc...</td>\n",
       "      <td>0</td>\n",
       "    </tr>\n",
       "    <tr>\n",
       "      <th>2</th>\n",
       "      <td>abiraterone</td>\n",
       "      <td>C[C@]12CC[C@H]3[C@@H](CC=C4C[C@@H](O)CC[C@@]43...</td>\n",
       "      <td>0</td>\n",
       "    </tr>\n",
       "    <tr>\n",
       "      <th>3</th>\n",
       "      <td>acebutolol</td>\n",
       "      <td>CCCC(=O)Nc1ccc(OC[C@@H](O)CNC(C)C)c(C(C)=O)c1</td>\n",
       "      <td>0</td>\n",
       "    </tr>\n",
       "    <tr>\n",
       "      <th>4</th>\n",
       "      <td>aceclofenac</td>\n",
       "      <td>O=C(O)COC(=O)Cc1ccccc1Nc1c(Cl)cccc1Cl</td>\n",
       "      <td>0</td>\n",
       "    </tr>\n",
       "    <tr>\n",
       "      <th>...</th>\n",
       "      <td>...</td>\n",
       "      <td>...</td>\n",
       "      <td>...</td>\n",
       "    </tr>\n",
       "    <tr>\n",
       "      <th>665</th>\n",
       "      <td>zolpidem</td>\n",
       "      <td>Cc1ccc(-c2nc3ccc(C)cn3c2CC(=O)N(C)C)cc1</td>\n",
       "      <td>1</td>\n",
       "    </tr>\n",
       "    <tr>\n",
       "      <th>666</th>\n",
       "      <td>zonisamide</td>\n",
       "      <td>NS(=O)(=O)Cc1noc2ccccc12</td>\n",
       "      <td>1</td>\n",
       "    </tr>\n",
       "    <tr>\n",
       "      <th>667</th>\n",
       "      <td>zopiclone</td>\n",
       "      <td>CN1CCN(C(=O)O[C@H]2c3nccnc3C(=O)N2c2ccc(Cl)cn2...</td>\n",
       "      <td>1</td>\n",
       "    </tr>\n",
       "    <tr>\n",
       "      <th>668</th>\n",
       "      <td>zotepine</td>\n",
       "      <td>CN(C)CCOC1=Cc2ccccc2Sc2ccc(Cl)cc21</td>\n",
       "      <td>1</td>\n",
       "    </tr>\n",
       "    <tr>\n",
       "      <th>669</th>\n",
       "      <td>zoxazolamin</td>\n",
       "      <td>Nc1nc2cc(Cl)ccc2o1</td>\n",
       "      <td>0</td>\n",
       "    </tr>\n",
       "  </tbody>\n",
       "</table>\n",
       "<p>670 rows × 3 columns</p>\n",
       "</div>"
      ],
      "text/plain": [
       "     common_name                                             SMILES  Active\n",
       "0       abacavir      Nc1nc(NC2CC2)c2ncn([C@H]3C=C[C@@H](CO)C3)c2n1       0\n",
       "1      abecarnil  COCc1c(C(=O)OC(C)C)ncc2[nH]c3ccc(OCc4ccccc4)cc...       0\n",
       "2    abiraterone  C[C@]12CC[C@H]3[C@@H](CC=C4C[C@@H](O)CC[C@@]43...       0\n",
       "3     acebutolol      CCCC(=O)Nc1ccc(OC[C@@H](O)CNC(C)C)c(C(C)=O)c1       0\n",
       "4    aceclofenac              O=C(O)COC(=O)Cc1ccccc1Nc1c(Cl)cccc1Cl       0\n",
       "..           ...                                                ...     ...\n",
       "665     zolpidem            Cc1ccc(-c2nc3ccc(C)cn3c2CC(=O)N(C)C)cc1       1\n",
       "666   zonisamide                           NS(=O)(=O)Cc1noc2ccccc12       1\n",
       "667    zopiclone  CN1CCN(C(=O)O[C@H]2c3nccnc3C(=O)N2c2ccc(Cl)cn2...       1\n",
       "668     zotepine                 CN(C)CCOC1=Cc2ccccc2Sc2ccc(Cl)cc21       1\n",
       "669  zoxazolamin                                 Nc1nc2cc(Cl)ccc2o1       0\n",
       "\n",
       "[670 rows x 3 columns]"
      ]
     },
     "execution_count": 30,
     "metadata": {},
     "output_type": "execute_result"
    }
   ],
   "source": [
    "df"
   ]
  },
  {
   "cell_type": "code",
   "execution_count": 31,
   "id": "36b98aa2-b5ee-4b8e-a0d9-feef57708a9d",
   "metadata": {},
   "outputs": [],
   "source": [
    "# standardisation of SMILES\n",
    "from rdkit import Chem\n",
    "from rdkit.Chem.MolStandardize import rdMolStandardize\n",
    "from rdkit.rdBase import BlockLogs\n",
    "import mols2grid"
   ]
  },
  {
   "cell_type": "code",
   "execution_count": 32,
   "id": "9b763ee1-31cb-4afc-bb4f-a1fc94c728ea",
   "metadata": {},
   "outputs": [],
   "source": [
    "\n",
    "# from Pat Walters method\n",
    "def standardize_smiles(smiles):\n",
    "    try:\n",
    "        # follows the steps in\n",
    "        # https://github.com/greglandrum/RSC_OpenScience_Standardization_202104/blob/main/MolStandardize%20pieces.ipynb\n",
    "        # as described **excellently** (by Greg) in\n",
    "        # https://www.youtube.com/watch?v=eWTApNX8dJQ\n",
    "        mol = Chem.MolFromSmiles(smiles)\n",
    "    \n",
    "        # removeHs, disconnect metal atoms, normalize the molecule, reionize the molecule\n",
    "        clean_mol = rdMolStandardize.Cleanup(mol)\n",
    "    \n",
    "        # if many fragments, get the \"parent\" (the actual mol we are interested in) \n",
    "        parent_clean_mol = rdMolStandardize.FragmentParent(clean_mol)\n",
    "    \n",
    "        # try to neutralize molecule\n",
    "        uncharger = rdMolStandardize.Uncharger()  # annoying, but necessary as no convenience method exists\n",
    "        uncharged_parent_clean_mol = uncharger.uncharge(parent_clean_mol)\n",
    "    \n",
    "        # note that no attempt is made at reionization at this step\n",
    "        # nor at ionization at some pH (rdkit has no pKa caculator)\n",
    "        # the main aim to represent all molecules from different sources\n",
    "        # in a (single) standard way, for use in ML, catalogue, etc.\n",
    "    \n",
    "        te = rdMolStandardize.TautomerEnumerator()  # idem\n",
    "        taut_uncharged_parent_clean_mol = te.Canonicalize(uncharged_parent_clean_mol)\n",
    "    \n",
    "        return Chem.MolToSmiles(taut_uncharged_parent_clean_mol)\n",
    "    except:\n",
    "        return pd.NA"
   ]
  },
  {
   "cell_type": "code",
   "execution_count": 33,
   "id": "f6bc2d75-557a-41af-93a2-f8e53c3cacb6",
   "metadata": {},
   "outputs": [
    {
     "name": "stderr",
     "output_type": "stream",
     "text": [
      "100%|█████████████████████████████████████████████████████████████████████████████████████████████████████████████████████████████████████████████████| 670/670 [00:05<00:00, 112.97it/s]\n"
     ]
    }
   ],
   "source": [
    "\n",
    "with BlockLogs():\n",
    "    df[\"CANONICAL_SMILES\"] = df[\"SMILES\"].progress_apply(lambda x: standardize_smiles(x))"
   ]
  },
  {
   "cell_type": "code",
   "execution_count": 34,
   "id": "ced5deef-9419-4017-a658-81317598e600",
   "metadata": {},
   "outputs": [],
   "source": [
    "def smi_to_inchikey(smiles):\n",
    "    try:\n",
    "        mol = Chem.MolFromSmiles(smiles)\n",
    "        return Chem.MolToInchiKey(mol)\n",
    "    except:\n",
    "        return pd.NA"
   ]
  },
  {
   "cell_type": "code",
   "execution_count": 35,
   "id": "1de0d81a-4bf6-45d6-bc83-9b9b74aac0fe",
   "metadata": {},
   "outputs": [
    {
     "name": "stderr",
     "output_type": "stream",
     "text": [
      "100%|████████████████████████████████████████████████████████████████████████████████████████████████████████████████████████████████████████████████| 670/670 [00:00<00:00, 4334.38it/s]\n"
     ]
    }
   ],
   "source": [
    "# compute inchikeys\n",
    "with BlockLogs():\n",
    "    df[\"INCHIKEY\"] = df[\"CANONICAL_SMILES\"].progress_apply(lambda x: smi_to_inchikey(x))"
   ]
  },
  {
   "cell_type": "code",
   "execution_count": 36,
   "id": "bd4ee3cc-de8f-4bb3-8fc9-be6bd55d4c3c",
   "metadata": {},
   "outputs": [
    {
     "data": {
      "text/plain": [
       "0"
      ]
     },
     "execution_count": 36,
     "metadata": {},
     "output_type": "execute_result"
    }
   ],
   "source": [
    "df.INCHIKEY.isna().sum() # everything worked"
   ]
  },
  {
   "cell_type": "code",
   "execution_count": 37,
   "id": "e8368111-81f9-4a4e-a958-424546b5a4f4",
   "metadata": {},
   "outputs": [],
   "source": [
    "# not much more to do really\n",
    "df[\"dataset\"] = \"carbon-mangels_2011\"\n",
    "df[\"data_type\"] = \"assay\" # going to assume assay\n",
    "df[\"action_type\"] = \"substrate\""
   ]
  },
  {
   "cell_type": "code",
   "execution_count": 38,
   "id": "44c4a5f6-b80c-4008-8eb6-b1fb7d1465ec",
   "metadata": {},
   "outputs": [],
   "source": [
    "df.to_csv(\"processed/carbon-mangels_2011.csv\", index=False)"
   ]
  },
  {
   "cell_type": "code",
   "execution_count": null,
   "id": "4a514f5b-84d0-4df9-b725-b71832699d81",
   "metadata": {},
   "outputs": [],
   "source": []
  },
  {
   "cell_type": "code",
   "execution_count": null,
   "id": "e39aa4ea-01e8-4764-8f50-323178880ca7",
   "metadata": {},
   "outputs": [],
   "source": []
  }
 ],
 "metadata": {
  "kernelspec": {
   "display_name": "Python 3 (ipykernel)",
   "language": "python",
   "name": "python3"
  },
  "language_info": {
   "codemirror_mode": {
    "name": "ipython",
    "version": 3
   },
   "file_extension": ".py",
   "mimetype": "text/x-python",
   "name": "python",
   "nbconvert_exporter": "python",
   "pygments_lexer": "ipython3",
   "version": "3.12.7"
  }
 },
 "nbformat": 4,
 "nbformat_minor": 5
}
