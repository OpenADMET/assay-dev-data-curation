{
 "cells": [
  {
   "cell_type": "code",
   "execution_count": 1,
   "id": "a758fc03-3502-4721-adc4-db2b380e7671",
   "metadata": {},
   "outputs": [],
   "source": [
    "import pandas as pd\n",
    "from rdkit import Chem\n",
    "import seaborn as sns\n",
    "from tqdm import tqdm\n",
    "import numpy as np"
   ]
  },
  {
   "cell_type": "code",
   "execution_count": 2,
   "id": "608040d2-a223-4fa2-9967-41f67a1f78cc",
   "metadata": {},
   "outputs": [],
   "source": [
    "tqdm.pandas()\n"
   ]
  },
  {
   "cell_type": "code",
   "execution_count": 3,
   "id": "13a05526-db75-4fca-bdf8-b4266aa1981d",
   "metadata": {},
   "outputs": [
    {
     "name": "stderr",
     "output_type": "stream",
     "text": [
      "/tmp/ipykernel_18795/51894694.py:1: DtypeWarning: Columns (32,33) have mixed types. Specify dtype option on import or set low_memory=False.\n",
      "  chembl = pd.read_csv(\"ChEMBL/ChEMBL_P08684_activities.csv\", sep=\";\")\n"
     ]
    }
   ],
   "source": [
    "chembl = pd.read_csv(\"ChEMBL/ChEMBL_P08684_activities.csv\", sep=\";\")"
   ]
  },
  {
   "cell_type": "code",
   "execution_count": 4,
   "id": "6ab8b63a-84e6-448f-bced-dec856ec1397",
   "metadata": {},
   "outputs": [
    {
     "data": {
      "text/html": [
       "<div>\n",
       "<style scoped>\n",
       "    .dataframe tbody tr th:only-of-type {\n",
       "        vertical-align: middle;\n",
       "    }\n",
       "\n",
       "    .dataframe tbody tr th {\n",
       "        vertical-align: top;\n",
       "    }\n",
       "\n",
       "    .dataframe thead th {\n",
       "        text-align: right;\n",
       "    }\n",
       "</style>\n",
       "<table border=\"1\" class=\"dataframe\">\n",
       "  <thead>\n",
       "    <tr style=\"text-align: right;\">\n",
       "      <th></th>\n",
       "      <th>Molecule ChEMBL ID</th>\n",
       "      <th>Molecule Name</th>\n",
       "      <th>Molecule Max Phase</th>\n",
       "      <th>Molecular Weight</th>\n",
       "      <th>#RO5 Violations</th>\n",
       "      <th>AlogP</th>\n",
       "      <th>Compound Key</th>\n",
       "      <th>Smiles</th>\n",
       "      <th>Standard Type</th>\n",
       "      <th>Standard Relation</th>\n",
       "      <th>...</th>\n",
       "      <th>Target Type</th>\n",
       "      <th>Document ChEMBL ID</th>\n",
       "      <th>Source ID</th>\n",
       "      <th>Source Description</th>\n",
       "      <th>Document Journal</th>\n",
       "      <th>Document Year</th>\n",
       "      <th>Cell ChEMBL ID</th>\n",
       "      <th>Properties</th>\n",
       "      <th>Action Type</th>\n",
       "      <th>Standard Text Value</th>\n",
       "    </tr>\n",
       "  </thead>\n",
       "  <tbody>\n",
       "    <tr>\n",
       "      <th>0</th>\n",
       "      <td>CHEMBL1405</td>\n",
       "      <td>ESTRONE</td>\n",
       "      <td>4.0</td>\n",
       "      <td>270.37</td>\n",
       "      <td>0.0</td>\n",
       "      <td>3.82</td>\n",
       "      <td>ESTRONE</td>\n",
       "      <td>C[C@]12CC[C@@H]3c4ccc(O)cc4CC[C@H]3[C@@H]1CCC2=O</td>\n",
       "      <td>IC50</td>\n",
       "      <td>NaN</td>\n",
       "      <td>...</td>\n",
       "      <td>SINGLE PROTEIN</td>\n",
       "      <td>CHEMBL1909046</td>\n",
       "      <td>15</td>\n",
       "      <td>DrugMatrix</td>\n",
       "      <td>NaN</td>\n",
       "      <td>NaN</td>\n",
       "      <td>CHEMBL3833782</td>\n",
       "      <td>NaN</td>\n",
       "      <td>NaN</td>\n",
       "      <td>NaN</td>\n",
       "    </tr>\n",
       "    <tr>\n",
       "      <th>1</th>\n",
       "      <td>CHEMBL404811</td>\n",
       "      <td>DIGITONIN</td>\n",
       "      <td>NaN</td>\n",
       "      <td>1229.32</td>\n",
       "      <td>NaN</td>\n",
       "      <td>NaN</td>\n",
       "      <td>DIGITONIN</td>\n",
       "      <td>C[C@@H]1CC[C@@]2(OC1)O[C@H]1[C@@H](O)[C@H]3[C@...</td>\n",
       "      <td>Ki</td>\n",
       "      <td>NaN</td>\n",
       "      <td>...</td>\n",
       "      <td>SINGLE PROTEIN</td>\n",
       "      <td>CHEMBL1909046</td>\n",
       "      <td>15</td>\n",
       "      <td>DrugMatrix</td>\n",
       "      <td>NaN</td>\n",
       "      <td>NaN</td>\n",
       "      <td>CHEMBL3833782</td>\n",
       "      <td>NaN</td>\n",
       "      <td>NaN</td>\n",
       "      <td>NaN</td>\n",
       "    </tr>\n",
       "    <tr>\n",
       "      <th>2</th>\n",
       "      <td>CHEMBL288857</td>\n",
       "      <td>NaN</td>\n",
       "      <td>NaN</td>\n",
       "      <td>474.55</td>\n",
       "      <td>1.0</td>\n",
       "      <td>5.37</td>\n",
       "      <td>18a</td>\n",
       "      <td>CCCCCO/C(O)=C1\\C(C)=NC(C)=C(C(=O)OCCOCCC)C1c1c...</td>\n",
       "      <td>Rate of oxidation</td>\n",
       "      <td>'='</td>\n",
       "      <td>...</td>\n",
       "      <td>SINGLE PROTEIN</td>\n",
       "      <td>CHEMBL1123360</td>\n",
       "      <td>1</td>\n",
       "      <td>Scientific Literature</td>\n",
       "      <td>J Med Chem</td>\n",
       "      <td>1986.0</td>\n",
       "      <td>NaN</td>\n",
       "      <td>NaN</td>\n",
       "      <td>NaN</td>\n",
       "      <td>NaN</td>\n",
       "    </tr>\n",
       "    <tr>\n",
       "      <th>3</th>\n",
       "      <td>CHEMBL168471</td>\n",
       "      <td>NaN</td>\n",
       "      <td>NaN</td>\n",
       "      <td>372.46</td>\n",
       "      <td>0.0</td>\n",
       "      <td>1.86</td>\n",
       "      <td>8</td>\n",
       "      <td>CC(C)C[C@H](C=O)NC(=O)[C@@H](NS(=O)(=O)c1ccc(F...</td>\n",
       "      <td>IC50</td>\n",
       "      <td>'='</td>\n",
       "      <td>...</td>\n",
       "      <td>SINGLE PROTEIN</td>\n",
       "      <td>CHEMBL1145779</td>\n",
       "      <td>1</td>\n",
       "      <td>Scientific Literature</td>\n",
       "      <td>J Med Chem</td>\n",
       "      <td>2003.0</td>\n",
       "      <td>NaN</td>\n",
       "      <td>NaN</td>\n",
       "      <td>NaN</td>\n",
       "      <td>NaN</td>\n",
       "    </tr>\n",
       "    <tr>\n",
       "      <th>4</th>\n",
       "      <td>CHEMBL168471</td>\n",
       "      <td>NaN</td>\n",
       "      <td>NaN</td>\n",
       "      <td>372.46</td>\n",
       "      <td>0.0</td>\n",
       "      <td>1.86</td>\n",
       "      <td>8</td>\n",
       "      <td>CC(C)C[C@H](C=O)NC(=O)[C@@H](NS(=O)(=O)c1ccc(F...</td>\n",
       "      <td>IC50</td>\n",
       "      <td>'='</td>\n",
       "      <td>...</td>\n",
       "      <td>SINGLE PROTEIN</td>\n",
       "      <td>CHEMBL1145779</td>\n",
       "      <td>1</td>\n",
       "      <td>Scientific Literature</td>\n",
       "      <td>J Med Chem</td>\n",
       "      <td>2003.0</td>\n",
       "      <td>NaN</td>\n",
       "      <td>NaN</td>\n",
       "      <td>NaN</td>\n",
       "      <td>NaN</td>\n",
       "    </tr>\n",
       "    <tr>\n",
       "      <th>...</th>\n",
       "      <td>...</td>\n",
       "      <td>...</td>\n",
       "      <td>...</td>\n",
       "      <td>...</td>\n",
       "      <td>...</td>\n",
       "      <td>...</td>\n",
       "      <td>...</td>\n",
       "      <td>...</td>\n",
       "      <td>...</td>\n",
       "      <td>...</td>\n",
       "      <td>...</td>\n",
       "      <td>...</td>\n",
       "      <td>...</td>\n",
       "      <td>...</td>\n",
       "      <td>...</td>\n",
       "      <td>...</td>\n",
       "      <td>...</td>\n",
       "      <td>...</td>\n",
       "      <td>...</td>\n",
       "      <td>...</td>\n",
       "      <td>...</td>\n",
       "    </tr>\n",
       "    <tr>\n",
       "      <th>53854</th>\n",
       "      <td>CHEMBL4847873</td>\n",
       "      <td>NaN</td>\n",
       "      <td>NaN</td>\n",
       "      <td>421.38</td>\n",
       "      <td>0.0</td>\n",
       "      <td>3.70</td>\n",
       "      <td>11mR</td>\n",
       "      <td>CCC[C@H](c1nc2ccc(Br)cc2c(=O)n1CC)N1C[C@@H](C)...</td>\n",
       "      <td>Inhibition</td>\n",
       "      <td>'='</td>\n",
       "      <td>...</td>\n",
       "      <td>SINGLE PROTEIN</td>\n",
       "      <td>CHEMBL4823330</td>\n",
       "      <td>1</td>\n",
       "      <td>Scientific Literature</td>\n",
       "      <td>ACS Med Chem Lett</td>\n",
       "      <td>2021.0</td>\n",
       "      <td>NaN</td>\n",
       "      <td>Dose = 1.0 microM | TIME = 0.5 hr</td>\n",
       "      <td>INHIBITOR</td>\n",
       "      <td>NaN</td>\n",
       "    </tr>\n",
       "    <tr>\n",
       "      <th>53855</th>\n",
       "      <td>CHEMBL4868703</td>\n",
       "      <td>NaN</td>\n",
       "      <td>NaN</td>\n",
       "      <td>419.57</td>\n",
       "      <td>0.0</td>\n",
       "      <td>4.00</td>\n",
       "      <td>11r</td>\n",
       "      <td>CCCC(c1nc2cc(-c3ccncc3)ccc2c(=O)n1CC)N1C[C@@H]...</td>\n",
       "      <td>Inhibition</td>\n",
       "      <td>'='</td>\n",
       "      <td>...</td>\n",
       "      <td>SINGLE PROTEIN</td>\n",
       "      <td>CHEMBL4823330</td>\n",
       "      <td>1</td>\n",
       "      <td>Scientific Literature</td>\n",
       "      <td>ACS Med Chem Lett</td>\n",
       "      <td>2021.0</td>\n",
       "      <td>NaN</td>\n",
       "      <td>Dose = 1.0 microM | TIME = 0.5 hr</td>\n",
       "      <td>INHIBITOR</td>\n",
       "      <td>NaN</td>\n",
       "    </tr>\n",
       "    <tr>\n",
       "      <th>53856</th>\n",
       "      <td>CHEMBL254316</td>\n",
       "      <td>RALTEGRAVIR</td>\n",
       "      <td>4.0</td>\n",
       "      <td>444.42</td>\n",
       "      <td>0.0</td>\n",
       "      <td>0.91</td>\n",
       "      <td>53</td>\n",
       "      <td>Cc1nnc(C(=O)NC(C)(C)c2nc(C(=O)NCc3ccc(F)cc3)c(...</td>\n",
       "      <td>Activity</td>\n",
       "      <td>'='</td>\n",
       "      <td>...</td>\n",
       "      <td>SINGLE PROTEIN</td>\n",
       "      <td>CHEMBL5244274</td>\n",
       "      <td>1</td>\n",
       "      <td>Scientific Literature</td>\n",
       "      <td>J Med Chem</td>\n",
       "      <td>2021.0</td>\n",
       "      <td>NaN</td>\n",
       "      <td>NaN</td>\n",
       "      <td>ACTIVATOR</td>\n",
       "      <td>NaN</td>\n",
       "    </tr>\n",
       "    <tr>\n",
       "      <th>53857</th>\n",
       "      <td>CHEMBL5183579</td>\n",
       "      <td>NaN</td>\n",
       "      <td>NaN</td>\n",
       "      <td>557.65</td>\n",
       "      <td>2.0</td>\n",
       "      <td>5.05</td>\n",
       "      <td>37</td>\n",
       "      <td>N#Cc1ccc(CN2CCC(NC(=O)c3ccc(C(=O)N4CCC(C(F)c5c...</td>\n",
       "      <td>IC50</td>\n",
       "      <td>NaN</td>\n",
       "      <td>...</td>\n",
       "      <td>SINGLE PROTEIN</td>\n",
       "      <td>CHEMBL5108030</td>\n",
       "      <td>1</td>\n",
       "      <td>Scientific Literature</td>\n",
       "      <td>Bioorg Med Chem</td>\n",
       "      <td>2022.0</td>\n",
       "      <td>NaN</td>\n",
       "      <td>NaN</td>\n",
       "      <td>NaN</td>\n",
       "      <td>NaN</td>\n",
       "    </tr>\n",
       "    <tr>\n",
       "      <th>53858</th>\n",
       "      <td>CHEMBL376488</td>\n",
       "      <td>BEDAQUILINE</td>\n",
       "      <td>4.0</td>\n",
       "      <td>555.52</td>\n",
       "      <td>2.0</td>\n",
       "      <td>7.13</td>\n",
       "      <td>Bedaquiline</td>\n",
       "      <td>COc1nc2ccc(Br)cc2cc1[C@@H](c1ccccc1)[C@@](O)(C...</td>\n",
       "      <td>IC50</td>\n",
       "      <td>'&gt;'</td>\n",
       "      <td>...</td>\n",
       "      <td>SINGLE PROTEIN</td>\n",
       "      <td>CHEMBL5113423</td>\n",
       "      <td>1</td>\n",
       "      <td>Scientific Literature</td>\n",
       "      <td>Bioorg Med Chem Lett</td>\n",
       "      <td>2022.0</td>\n",
       "      <td>NaN</td>\n",
       "      <td>NaN</td>\n",
       "      <td>NaN</td>\n",
       "      <td>NaN</td>\n",
       "    </tr>\n",
       "  </tbody>\n",
       "</table>\n",
       "<p>53859 rows × 47 columns</p>\n",
       "</div>"
      ],
      "text/plain": [
       "      Molecule ChEMBL ID Molecule Name  Molecule Max Phase  Molecular Weight  \\\n",
       "0             CHEMBL1405       ESTRONE                 4.0            270.37   \n",
       "1           CHEMBL404811     DIGITONIN                 NaN           1229.32   \n",
       "2           CHEMBL288857           NaN                 NaN            474.55   \n",
       "3           CHEMBL168471           NaN                 NaN            372.46   \n",
       "4           CHEMBL168471           NaN                 NaN            372.46   \n",
       "...                  ...           ...                 ...               ...   \n",
       "53854      CHEMBL4847873           NaN                 NaN            421.38   \n",
       "53855      CHEMBL4868703           NaN                 NaN            419.57   \n",
       "53856       CHEMBL254316   RALTEGRAVIR                 4.0            444.42   \n",
       "53857      CHEMBL5183579           NaN                 NaN            557.65   \n",
       "53858       CHEMBL376488   BEDAQUILINE                 4.0            555.52   \n",
       "\n",
       "       #RO5 Violations  AlogP Compound Key  \\\n",
       "0                  0.0   3.82      ESTRONE   \n",
       "1                  NaN    NaN    DIGITONIN   \n",
       "2                  1.0   5.37          18a   \n",
       "3                  0.0   1.86            8   \n",
       "4                  0.0   1.86            8   \n",
       "...                ...    ...          ...   \n",
       "53854              0.0   3.70         11mR   \n",
       "53855              0.0   4.00          11r   \n",
       "53856              0.0   0.91           53   \n",
       "53857              2.0   5.05           37   \n",
       "53858              2.0   7.13  Bedaquiline   \n",
       "\n",
       "                                                  Smiles      Standard Type  \\\n",
       "0       C[C@]12CC[C@@H]3c4ccc(O)cc4CC[C@H]3[C@@H]1CCC2=O               IC50   \n",
       "1      C[C@@H]1CC[C@@]2(OC1)O[C@H]1[C@@H](O)[C@H]3[C@...                 Ki   \n",
       "2      CCCCCO/C(O)=C1\\C(C)=NC(C)=C(C(=O)OCCOCCC)C1c1c...  Rate of oxidation   \n",
       "3      CC(C)C[C@H](C=O)NC(=O)[C@@H](NS(=O)(=O)c1ccc(F...               IC50   \n",
       "4      CC(C)C[C@H](C=O)NC(=O)[C@@H](NS(=O)(=O)c1ccc(F...               IC50   \n",
       "...                                                  ...                ...   \n",
       "53854  CCC[C@H](c1nc2ccc(Br)cc2c(=O)n1CC)N1C[C@@H](C)...         Inhibition   \n",
       "53855  CCCC(c1nc2cc(-c3ccncc3)ccc2c(=O)n1CC)N1C[C@@H]...         Inhibition   \n",
       "53856  Cc1nnc(C(=O)NC(C)(C)c2nc(C(=O)NCc3ccc(F)cc3)c(...           Activity   \n",
       "53857  N#Cc1ccc(CN2CCC(NC(=O)c3ccc(C(=O)N4CCC(C(F)c5c...               IC50   \n",
       "53858  COc1nc2ccc(Br)cc2cc1[C@@H](c1ccccc1)[C@@](O)(C...               IC50   \n",
       "\n",
       "      Standard Relation  ...     Target Type Document ChEMBL ID  Source ID  \\\n",
       "0                   NaN  ...  SINGLE PROTEIN      CHEMBL1909046         15   \n",
       "1                   NaN  ...  SINGLE PROTEIN      CHEMBL1909046         15   \n",
       "2                   '='  ...  SINGLE PROTEIN      CHEMBL1123360          1   \n",
       "3                   '='  ...  SINGLE PROTEIN      CHEMBL1145779          1   \n",
       "4                   '='  ...  SINGLE PROTEIN      CHEMBL1145779          1   \n",
       "...                 ...  ...             ...                ...        ...   \n",
       "53854               '='  ...  SINGLE PROTEIN      CHEMBL4823330          1   \n",
       "53855               '='  ...  SINGLE PROTEIN      CHEMBL4823330          1   \n",
       "53856               '='  ...  SINGLE PROTEIN      CHEMBL5244274          1   \n",
       "53857               NaN  ...  SINGLE PROTEIN      CHEMBL5108030          1   \n",
       "53858               '>'  ...  SINGLE PROTEIN      CHEMBL5113423          1   \n",
       "\n",
       "          Source Description      Document Journal Document Year  \\\n",
       "0                 DrugMatrix                   NaN           NaN   \n",
       "1                 DrugMatrix                   NaN           NaN   \n",
       "2      Scientific Literature            J Med Chem        1986.0   \n",
       "3      Scientific Literature            J Med Chem        2003.0   \n",
       "4      Scientific Literature            J Med Chem        2003.0   \n",
       "...                      ...                   ...           ...   \n",
       "53854  Scientific Literature     ACS Med Chem Lett        2021.0   \n",
       "53855  Scientific Literature     ACS Med Chem Lett        2021.0   \n",
       "53856  Scientific Literature            J Med Chem        2021.0   \n",
       "53857  Scientific Literature       Bioorg Med Chem        2022.0   \n",
       "53858  Scientific Literature  Bioorg Med Chem Lett        2022.0   \n",
       "\n",
       "       Cell ChEMBL ID                         Properties  Action Type  \\\n",
       "0       CHEMBL3833782                                NaN          NaN   \n",
       "1       CHEMBL3833782                                NaN          NaN   \n",
       "2                 NaN                                NaN          NaN   \n",
       "3                 NaN                                NaN          NaN   \n",
       "4                 NaN                                NaN          NaN   \n",
       "...               ...                                ...          ...   \n",
       "53854             NaN  Dose = 1.0 microM | TIME = 0.5 hr    INHIBITOR   \n",
       "53855             NaN  Dose = 1.0 microM | TIME = 0.5 hr    INHIBITOR   \n",
       "53856             NaN                                NaN    ACTIVATOR   \n",
       "53857             NaN                                NaN          NaN   \n",
       "53858             NaN                                NaN          NaN   \n",
       "\n",
       "       Standard Text Value  \n",
       "0                      NaN  \n",
       "1                      NaN  \n",
       "2                      NaN  \n",
       "3                      NaN  \n",
       "4                      NaN  \n",
       "...                    ...  \n",
       "53854                  NaN  \n",
       "53855                  NaN  \n",
       "53856                  NaN  \n",
       "53857                  NaN  \n",
       "53858                  NaN  \n",
       "\n",
       "[53859 rows x 47 columns]"
      ]
     },
     "execution_count": 4,
     "metadata": {},
     "output_type": "execute_result"
    }
   ],
   "source": [
    "chembl"
   ]
  },
  {
   "cell_type": "code",
   "execution_count": 5,
   "id": "70e28a1f-fb4d-4106-a829-55557c313e1e",
   "metadata": {},
   "outputs": [
    {
     "data": {
      "text/plain": [
       "Index(['Molecule ChEMBL ID', 'Molecule Name', 'Molecule Max Phase',\n",
       "       'Molecular Weight', '#RO5 Violations', 'AlogP', 'Compound Key',\n",
       "       'Smiles', 'Standard Type', 'Standard Relation', 'Standard Value',\n",
       "       'Standard Units', 'pChEMBL Value', 'Data Validity Comment', 'Comment',\n",
       "       'Uo Units', 'Ligand Efficiency BEI', 'Ligand Efficiency LE',\n",
       "       'Ligand Efficiency LLE', 'Ligand Efficiency SEI', 'Potential Duplicate',\n",
       "       'Assay ChEMBL ID', 'Assay Description', 'Assay Type', 'BAO Format ID',\n",
       "       'BAO Label', 'Assay Organism', 'Assay Tissue ChEMBL ID',\n",
       "       'Assay Tissue Name', 'Assay Cell Type', 'Assay Subcellular Fraction',\n",
       "       'Assay Parameters', 'Assay Variant Accession', 'Assay Variant Mutation',\n",
       "       'Target ChEMBL ID', 'Target Name', 'Target Organism', 'Target Type',\n",
       "       'Document ChEMBL ID', 'Source ID', 'Source Description',\n",
       "       'Document Journal', 'Document Year', 'Cell ChEMBL ID', 'Properties',\n",
       "       'Action Type', 'Standard Text Value'],\n",
       "      dtype='object')"
      ]
     },
     "execution_count": 5,
     "metadata": {},
     "output_type": "execute_result"
    }
   ],
   "source": [
    "chembl.columns"
   ]
  },
  {
   "cell_type": "code",
   "execution_count": 6,
   "id": "6fa3277a-5c32-468f-9a4c-f14ca555d91b",
   "metadata": {},
   "outputs": [
    {
     "data": {
      "text/plain": [
       "Data Validity Comment\n",
       "Outside typical range            273\n",
       "Potential missing data             7\n",
       "Potential transcription error      5\n",
       "Name: count, dtype: int64"
      ]
     },
     "execution_count": 6,
     "metadata": {},
     "output_type": "execute_result"
    }
   ],
   "source": [
    "chembl[\"Data Validity Comment\"].value_counts()"
   ]
  },
  {
   "cell_type": "code",
   "execution_count": 7,
   "id": "a9901477-19a7-4f90-87c2-5a4b53613941",
   "metadata": {},
   "outputs": [
    {
     "data": {
      "text/plain": [
       "Action Type\n",
       "INHIBITOR        1152\n",
       "SUBSTRATE         119\n",
       "ACTIVATOR          73\n",
       "DEGRADER            9\n",
       "BINDING AGENT       7\n",
       "ANTAGONIST          3\n",
       "Name: count, dtype: int64"
      ]
     },
     "execution_count": 7,
     "metadata": {},
     "output_type": "execute_result"
    }
   ],
   "source": [
    "chembl[\"Action Type\"].value_counts()"
   ]
  },
  {
   "cell_type": "code",
   "execution_count": 8,
   "id": "7e3266e8-7718-405a-a766-57ebccd328fc",
   "metadata": {},
   "outputs": [
    {
     "data": {
      "text/plain": [
       "Standard Units\n",
       "nM               33691\n",
       "%                 6351\n",
       "uM                 720\n",
       "/min               145\n",
       "hr                  70\n",
       "min-1               56\n",
       "/s                  42\n",
       "/uM/min             26\n",
       "degrees C           24\n",
       "pmol/min            24\n",
       "mL.min-1.g-1        18\n",
       "nmol/min            16\n",
       "min                 15\n",
       "10^-4/min           13\n",
       "mM                  13\n",
       "%/min               12\n",
       "uL/min              11\n",
       "L/min/umol           9\n",
       "nm                   9\n",
       "uL/min/pmol          8\n",
       "10'-4/min            6\n",
       "/min/nM              4\n",
       "pmol/hr              4\n",
       "%/min/pmol           4\n",
       "ml/min/nmol          3\n",
       "nmol/min/mg          3\n",
       "ug/L                 3\n",
       "ug.mL-1              3\n",
       "/min/microM          3\n",
       "ml/min/mg            3\n",
       "10'3ml/min           3\n",
       "uL/min/nmol          2\n",
       "/nM.min              2\n",
       "uL/min.mg            2\n",
       "pmol/min/pmol        2\n",
       "pmol/mg.min          2\n",
       "uL/mg/min            2\n",
       "ml/min/uL            2\n",
       "ml/min/umol          1\n",
       "ng/ml                1\n",
       "ul.min.nmol-1        1\n",
       "/hr                  1\n",
       "mol/min              1\n",
       "/min/mM              1\n",
       "pmol.min.mg-1        1\n",
       "Name: count, dtype: int64"
      ]
     },
     "execution_count": 8,
     "metadata": {},
     "output_type": "execute_result"
    }
   ],
   "source": [
    "chembl[\"Standard Units\"].value_counts()"
   ]
  },
  {
   "cell_type": "code",
   "execution_count": 9,
   "id": "c46b85df-5a75-4c55-ba68-0ae0b6c0c45e",
   "metadata": {},
   "outputs": [
    {
     "data": {
      "text/plain": [
       "Standard Type\n",
       "AC50                          17143\n",
       "Potency                       13692\n",
       "IC50                          12205\n",
       "Inhibition                     4994\n",
       "Activity                       1704\n",
       "Ki                             1121\n",
       "Drug metabolism                 507\n",
       "INH                             496\n",
       "TDI                             412\n",
       "Ratio IC50                      263\n",
       "FC                              237\n",
       "Stability                       126\n",
       "Kinact                          111\n",
       "Ratio                            97\n",
       "K                                79\n",
       "Km                               71\n",
       "T1/2                             70\n",
       "Log 1/Km                         58\n",
       "Compound recovery                54\n",
       "CL                               54\n",
       "EC50                             45\n",
       "Kcat                             44\n",
       "mechanism based inhibition       34\n",
       "Ks                               31\n",
       "Vmax                             28\n",
       "Rate of oxidation                18\n",
       "Emax                             16\n",
       "Kd                               16\n",
       "Delta Tm                         16\n",
       "Vmax/Km                          14\n",
       "IC20                             13\n",
       "Retention_time                   12\n",
       "Inhibitory index                  9\n",
       "deltaA                            9\n",
       "Tm                                8\n",
       "IC90                              8\n",
       "IC                                7\n",
       "Fm                                6\n",
       "Partition ratio                   5\n",
       "t1/2                              4\n",
       "NOAEL                             4\n",
       "CL free                           3\n",
       "Vmax(app)                         2\n",
       "IC5                               2\n",
       "Control of P-450 marker           2\n",
       "Log IC50                          1\n",
       "Cmax                              1\n",
       "Selectivity ratio                 1\n",
       "pIC50                             1\n",
       "Imax                              1\n",
       "kinact                            1\n",
       "PPB                               1\n",
       "Drug uptake                       1\n",
       "Kdiss                             1\n",
       "Name: count, dtype: int64"
      ]
     },
     "execution_count": 9,
     "metadata": {},
     "output_type": "execute_result"
    }
   ],
   "source": [
    "chembl[\"Standard Type\"].value_counts()"
   ]
  },
  {
   "cell_type": "code",
   "execution_count": 10,
   "id": "ca7ce78e-b414-4035-bd57-79b5f0324035",
   "metadata": {},
   "outputs": [
    {
     "data": {
      "text/plain": [
       "<Axes: xlabel='pChEMBL Value', ylabel='Count'>"
      ]
     },
     "execution_count": 10,
     "metadata": {},
     "output_type": "execute_result"
    },
    {
     "data": {
      "image/png": "[encoded data removed]",
      "text/plain": [
       "<Figure size 640x480 with 1 Axes>"
      ]
     },
     "metadata": {},
     "output_type": "display_data"
    }
   ],
   "source": [
    "sns.histplot(data=chembl, x=\"pChEMBL Value\", hue=\"Assay Type\")"
   ]
  },
  {
   "cell_type": "code",
   "execution_count": 11,
   "id": "53ef58c1-f0b1-42b1-b799-01abaa4c5e79",
   "metadata": {},
   "outputs": [
    {
     "data": {
      "text/plain": [
       "<Axes: xlabel='Action Type', ylabel='count'>"
      ]
     },
     "execution_count": 11,
     "metadata": {},
     "output_type": "execute_result"
    },
    {
     "data": {
      "image/png": "[encoded data removed]",
      "text/plain": [
       "<Figure size 640x480 with 1 Axes>"
      ]
     },
     "metadata": {},
     "output_type": "display_data"
    }
   ],
   "source": [
    "sns.countplot(data=chembl, x=\"Action Type\")"
   ]
  },
  {
   "cell_type": "code",
   "execution_count": null,
   "id": "6146643c-cca1-49f1-b5b4-e8794c0c15fb",
   "metadata": {},
   "outputs": [],
   "source": []
  },
  {
   "cell_type": "code",
   "execution_count": 12,
   "id": "4f708bdf-7097-4100-87e4-c045d134eed7",
   "metadata": {},
   "outputs": [
    {
     "data": {
      "text/plain": [
       "33986"
      ]
     },
     "execution_count": 12,
     "metadata": {},
     "output_type": "execute_result"
    }
   ],
   "source": [
    "chembl[\"Molecule ChEMBL ID\"].nunique()"
   ]
  },
  {
   "cell_type": "code",
   "execution_count": 13,
   "id": "1bb0613e-e2f8-44d4-bd88-ae7762493226",
   "metadata": {},
   "outputs": [
    {
     "data": {
      "text/plain": [
       "4931"
      ]
     },
     "execution_count": 13,
     "metadata": {},
     "output_type": "execute_result"
    }
   ],
   "source": [
    "chembl[\"Assay ChEMBL ID\"].nunique()"
   ]
  },
  {
   "cell_type": "markdown",
   "id": "1c2b929f-69fc-4b92-82ab-760e3ab0cfdc",
   "metadata": {},
   "source": [
    "33986 unique molecules\n",
    "4931 unique assays \n"
   ]
  },
  {
   "cell_type": "code",
   "execution_count": 14,
   "id": "8d2fce10-94c7-43c1-a331-0108785d4061",
   "metadata": {},
   "outputs": [],
   "source": [
    "\n",
    "# from Pat Walters method\n",
    "def standardize_smiles(smiles):\n",
    "    try:\n",
    "        # follows the steps in\n",
    "        # https://github.com/greglandrum/RSC_OpenScience_Standardization_202104/blob/main/MolStandardize%20pieces.ipynb\n",
    "        # as described **excellently** (by Greg) in\n",
    "        # https://www.youtube.com/watch?v=eWTApNX8dJQ\n",
    "        mol = Chem.MolFromSmiles(smiles)\n",
    "    \n",
    "        # removeHs, disconnect metal atoms, normalize the molecule, reionize the molecule\n",
    "        clean_mol = rdMolStandardize.Cleanup(mol)\n",
    "    \n",
    "        # if many fragments, get the \"parent\" (the actual mol we are interested in) \n",
    "        parent_clean_mol = rdMolStandardize.FragmentParent(clean_mol)\n",
    "    \n",
    "        # try to neutralize molecule\n",
    "        uncharger = rdMolStandardize.Uncharger()  # annoying, but necessary as no convenience method exists\n",
    "        uncharged_parent_clean_mol = uncharger.uncharge(parent_clean_mol)\n",
    "    \n",
    "        # note that no attempt is made at reionization at this step\n",
    "        # nor at ionization at some pH (rdkit has no pKa caculator)\n",
    "        # the main aim to represent all molecules from different sources\n",
    "        # in a (single) standard way, for use in ML, catalogue, etc.\n",
    "    \n",
    "        te = rdMolStandardize.TautomerEnumerator()  # idem\n",
    "        taut_uncharged_parent_clean_mol = te.Canonicalize(uncharged_parent_clean_mol)\n",
    "    \n",
    "        return Chem.MolToSmiles(taut_uncharged_parent_clean_mol)\n",
    "    except:\n",
    "        return pd.NA"
   ]
  },
  {
   "cell_type": "code",
   "execution_count": 15,
   "id": "9b3c89e5-9417-4caf-ac38-e4df968ba11d",
   "metadata": {},
   "outputs": [],
   "source": [
    "# standardisation of SMILES\n",
    "from rdkit import Chem\n",
    "from rdkit.Chem.MolStandardize import rdMolStandardize\n",
    "from rdkit.rdBase import BlockLogs\n",
    "import mols2grid"
   ]
  },
  {
   "cell_type": "code",
   "execution_count": 16,
   "id": "eddf586c-9bfd-4244-8445-38855c678987",
   "metadata": {},
   "outputs": [
    {
     "name": "stderr",
     "output_type": "stream",
     "text": [
      "100%|████████████████████████████████████| 53859/53859 [07:04<00:00, 127.01it/s]\n"
     ]
    }
   ],
   "source": [
    "\n",
    "with BlockLogs():\n",
    "    chembl[\"CANONICAL_SMILES\"] = chembl[\"Smiles\"].progress_apply(lambda x: standardize_smiles(x))"
   ]
  },
  {
   "cell_type": "code",
   "execution_count": 17,
   "id": "68f89667-e140-4125-8a93-f5c51b8f3855",
   "metadata": {},
   "outputs": [],
   "source": [
    "def smi_to_inchikey(smiles):\n",
    "    try:\n",
    "        mol = Chem.MolFromSmiles(smiles)\n",
    "        return Chem.MolToInchiKey(mol)\n",
    "    except:\n",
    "        return pd.NA"
   ]
  },
  {
   "cell_type": "code",
   "execution_count": 18,
   "id": "9a9811a3-f8e6-4e23-a950-f968dcfa732b",
   "metadata": {},
   "outputs": [
    {
     "name": "stderr",
     "output_type": "stream",
     "text": [
      "100%|███████████████████████████████████| 53859/53859 [00:14<00:00, 3596.48it/s]\n"
     ]
    }
   ],
   "source": [
    "# compute inchikeys\n",
    "with BlockLogs():\n",
    "    chembl[\"INCHIKEY\"] = chembl[\"CANONICAL_SMILES\"].progress_apply(lambda x: smi_to_inchikey(x))"
   ]
  },
  {
   "cell_type": "code",
   "execution_count": 19,
   "id": "aa8ecb50-bce7-44a7-bb14-fc63a4b9f0a5",
   "metadata": {},
   "outputs": [],
   "source": [
    "#"
   ]
  },
  {
   "cell_type": "code",
   "execution_count": 20,
   "id": "8656fea7-ef8b-478d-af34-f92b87e6d9f7",
   "metadata": {},
   "outputs": [
    {
     "data": {
      "text/plain": [
       "33406"
      ]
     },
     "execution_count": 20,
     "metadata": {},
     "output_type": "execute_result"
    }
   ],
   "source": [
    "chembl.INCHIKEY.nunique()"
   ]
  },
  {
   "cell_type": "code",
   "execution_count": 21,
   "id": "77ca81ea-2954-47d1-a09c-5fe86d3180b7",
   "metadata": {},
   "outputs": [],
   "source": [
    "chembl.dropna(subset=\"INCHIKEY\", inplace=True)"
   ]
  },
  {
   "cell_type": "markdown",
   "id": "0d16cc91-aaf2-46f3-af5f-810aabc04b99",
   "metadata": {},
   "source": [
    "# What to do?\n",
    "\n",
    "So few substrates, lets just take them as is\n",
    "\n"
   ]
  },
  {
   "cell_type": "code",
   "execution_count": 22,
   "id": "91ded1f7-77fe-4f1b-b564-251ad5d27ac5",
   "metadata": {},
   "outputs": [],
   "source": [
    "substrates = chembl[chembl[\"Action Type\"] == \"SUBSTRATE\"]"
   ]
  },
  {
   "cell_type": "code",
   "execution_count": 23,
   "id": "7bd0a184-0ea2-4d82-991b-5f4f9ee9c7d1",
   "metadata": {},
   "outputs": [
    {
     "data": {
      "text/plain": [
       "117"
      ]
     },
     "execution_count": 23,
     "metadata": {},
     "output_type": "execute_result"
    }
   ],
   "source": [
    "substrates.INCHIKEY.nunique()"
   ]
  },
  {
   "cell_type": "code",
   "execution_count": 24,
   "id": "849e99bc-b6db-4cfe-b312-e3a6663fe108",
   "metadata": {},
   "outputs": [
    {
     "data": {
      "text/plain": [
       "119"
      ]
     },
     "execution_count": 24,
     "metadata": {},
     "output_type": "execute_result"
    }
   ],
   "source": [
    "len(substrates.INCHIKEY)"
   ]
  },
  {
   "cell_type": "code",
   "execution_count": 25,
   "id": "65395a94-3e7b-48a9-81fb-454baa85f5e2",
   "metadata": {},
   "outputs": [],
   "source": [
    "keep_cols = [\"CANONICAL_SMILES\", \"INCHIKEY\", \"Molecule Name\", \"Action Type\"]"
   ]
  },
  {
   "cell_type": "code",
   "execution_count": 26,
   "id": "5c963635-99b7-4ae3-9666-90fcdde9e2b4",
   "metadata": {},
   "outputs": [
    {
     "name": "stderr",
     "output_type": "stream",
     "text": [
      "/tmp/ipykernel_18795/1475071475.py:2: SettingWithCopyWarning: \n",
      "A value is trying to be set on a copy of a slice from a DataFrame\n",
      "\n",
      "See the caveats in the documentation: https://pandas.pydata.org/pandas-docs/stable/user_guide/indexing.html#returning-a-view-versus-a-copy\n",
      "  clean_active.rename(columns={\"assay_count\":\"appears_in_N_ChEMBL_assays\", \"Molecule Name\": \"common_name\", \"Action Type\": \"action_type\"}, inplace=True)\n"
     ]
    }
   ],
   "source": [
    "clean_active = substrates[keep_cols]\n",
    "clean_active.rename(columns={\"assay_count\":\"appears_in_N_ChEMBL_assays\", \"Molecule Name\": \"common_name\", \"Action Type\": \"action_type\"}, inplace=True)\n",
    "clean_active_sorted = clean_active.sort_values([\"common_name\", \"action_type\"], ascending=[False, False]) # keep the ones with names if possible\n",
    "clean_deduped = clean_active_sorted.drop_duplicates(subset=\"INCHIKEY\", keep=\"first\")\n"
   ]
  },
  {
   "cell_type": "code",
   "execution_count": 27,
   "id": "af8ff650-ca4c-4c89-9f26-1a0fcccc4158",
   "metadata": {},
   "outputs": [
    {
     "data": {
      "text/html": [
       "<div>\n",
       "<style scoped>\n",
       "    .dataframe tbody tr th:only-of-type {\n",
       "        vertical-align: middle;\n",
       "    }\n",
       "\n",
       "    .dataframe tbody tr th {\n",
       "        vertical-align: top;\n",
       "    }\n",
       "\n",
       "    .dataframe thead th {\n",
       "        text-align: right;\n",
       "    }\n",
       "</style>\n",
       "<table border=\"1\" class=\"dataframe\">\n",
       "  <thead>\n",
       "    <tr style=\"text-align: right;\">\n",
       "      <th></th>\n",
       "      <th>CANONICAL_SMILES</th>\n",
       "      <th>INCHIKEY</th>\n",
       "      <th>common_name</th>\n",
       "      <th>action_type</th>\n",
       "    </tr>\n",
       "  </thead>\n",
       "  <tbody>\n",
       "    <tr>\n",
       "      <th>2792</th>\n",
       "      <td>CC(C)(C)c1ccc(C(O)CCCN2CCC(C(O)(c3ccccc3)c3ccc...</td>\n",
       "      <td>GUGOEEXESWIERI-UHFFFAOYSA-N</td>\n",
       "      <td>TERFENADINE</td>\n",
       "      <td>SUBSTRATE</td>\n",
       "    </tr>\n",
       "    <tr>\n",
       "      <th>6771</th>\n",
       "      <td>Cc1ccsc1C(=CCCN1CCCC(C(=O)O)C1)c1sccc1C</td>\n",
       "      <td>PBJUNZJWGZTSKL-UHFFFAOYSA-N</td>\n",
       "      <td>TIAGABINE</td>\n",
       "      <td>SUBSTRATE</td>\n",
       "    </tr>\n",
       "    <tr>\n",
       "      <th>6772</th>\n",
       "      <td>CCC1C(C)=NN=C(c2ccc(OC)c(OC)c2)c2cc(OC)c(OC)cc21</td>\n",
       "      <td>RUJBDQSFYCKFAA-UHFFFAOYSA-N</td>\n",
       "      <td>TOFISOPAM</td>\n",
       "      <td>SUBSTRATE</td>\n",
       "    </tr>\n",
       "    <tr>\n",
       "      <th>6776</th>\n",
       "      <td>CCOC(=O)C1=C(COCCN)N=C(C)C(C(=O)OC)C1c1ccccc1Cl</td>\n",
       "      <td>YMDXSGBNCBQYGC-UHFFFAOYSA-N</td>\n",
       "      <td>AMLODIPINE</td>\n",
       "      <td>SUBSTRATE</td>\n",
       "    </tr>\n",
       "    <tr>\n",
       "      <th>6777</th>\n",
       "      <td>Cc1nnc2n1-c1sc(Br)cc1C(c1ccccc1Cl)=NC2</td>\n",
       "      <td>UMSGKTJDUHERQW-UHFFFAOYSA-N</td>\n",
       "      <td>BROTIZOLAM</td>\n",
       "      <td>SUBSTRATE</td>\n",
       "    </tr>\n",
       "  </tbody>\n",
       "</table>\n",
       "</div>"
      ],
      "text/plain": [
       "                                       CANONICAL_SMILES  \\\n",
       "2792  CC(C)(C)c1ccc(C(O)CCCN2CCC(C(O)(c3ccccc3)c3ccc...   \n",
       "6771            Cc1ccsc1C(=CCCN1CCCC(C(=O)O)C1)c1sccc1C   \n",
       "6772   CCC1C(C)=NN=C(c2ccc(OC)c(OC)c2)c2cc(OC)c(OC)cc21   \n",
       "6776    CCOC(=O)C1=C(COCCN)N=C(C)C(C(=O)OC)C1c1ccccc1Cl   \n",
       "6777             Cc1nnc2n1-c1sc(Br)cc1C(c1ccccc1Cl)=NC2   \n",
       "\n",
       "                         INCHIKEY  common_name action_type  \n",
       "2792  GUGOEEXESWIERI-UHFFFAOYSA-N  TERFENADINE   SUBSTRATE  \n",
       "6771  PBJUNZJWGZTSKL-UHFFFAOYSA-N    TIAGABINE   SUBSTRATE  \n",
       "6772  RUJBDQSFYCKFAA-UHFFFAOYSA-N    TOFISOPAM   SUBSTRATE  \n",
       "6776  YMDXSGBNCBQYGC-UHFFFAOYSA-N   AMLODIPINE   SUBSTRATE  \n",
       "6777  UMSGKTJDUHERQW-UHFFFAOYSA-N   BROTIZOLAM   SUBSTRATE  "
      ]
     },
     "execution_count": 27,
     "metadata": {},
     "output_type": "execute_result"
    }
   ],
   "source": [
    "clean_active.head()"
   ]
  },
  {
   "cell_type": "code",
   "execution_count": 28,
   "id": "8ac3230e-9c69-4868-ab9d-b24642c4aacc",
   "metadata": {},
   "outputs": [
    {
     "name": "stderr",
     "output_type": "stream",
     "text": [
      "/tmp/ipykernel_18795/1947554809.py:1: SettingWithCopyWarning: \n",
      "A value is trying to be set on a copy of a slice from a DataFrame.\n",
      "Try using .loc[row_indexer,col_indexer] = value instead\n",
      "\n",
      "See the caveats in the documentation: https://pandas.pydata.org/pandas-docs/stable/user_guide/indexing.html#returning-a-view-versus-a-copy\n",
      "  clean_deduped[\"action_type\"] = \"substrate\"\n"
     ]
    }
   ],
   "source": [
    "clean_deduped[\"action_type\"] = \"substrate\""
   ]
  },
  {
   "cell_type": "code",
   "execution_count": 29,
   "id": "18253330-c69d-49d1-bc24-955a5ec9aff6",
   "metadata": {},
   "outputs": [
    {
     "name": "stderr",
     "output_type": "stream",
     "text": [
      "/tmp/ipykernel_18795/2487547738.py:1: SettingWithCopyWarning: \n",
      "A value is trying to be set on a copy of a slice from a DataFrame.\n",
      "Try using .loc[row_indexer,col_indexer] = value instead\n",
      "\n",
      "See the caveats in the documentation: https://pandas.pydata.org/pandas-docs/stable/user_guide/indexing.html#returning-a-view-versus-a-copy\n",
      "  clean_deduped[\"dataset\"] = \"ChEMBL_curated\"\n",
      "/tmp/ipykernel_18795/2487547738.py:2: SettingWithCopyWarning: \n",
      "A value is trying to be set on a copy of a slice from a DataFrame.\n",
      "Try using .loc[row_indexer,col_indexer] = value instead\n",
      "\n",
      "See the caveats in the documentation: https://pandas.pydata.org/pandas-docs/stable/user_guide/indexing.html#returning-a-view-versus-a-copy\n",
      "  clean_deduped[\"active\"] = True\n"
     ]
    }
   ],
   "source": [
    "clean_deduped[\"dataset\"] = \"ChEMBL_curated\"\n",
    "clean_deduped[\"active\"] = True"
   ]
  },
  {
   "cell_type": "code",
   "execution_count": 30,
   "id": "d0596bbd-91ee-45bd-9ddf-061f4b0fb491",
   "metadata": {},
   "outputs": [],
   "source": [
    "clean_deduped.to_csv(\"processed/chembl_active.csv\", index=False)"
   ]
  },
  {
   "cell_type": "code",
   "execution_count": 31,
   "id": "aa58564e-8019-40a9-b8f8-3ab75edfd7bf",
   "metadata": {},
   "outputs": [
    {
     "data": {
      "text/html": [
       "<div>\n",
       "<style scoped>\n",
       "    .dataframe tbody tr th:only-of-type {\n",
       "        vertical-align: middle;\n",
       "    }\n",
       "\n",
       "    .dataframe tbody tr th {\n",
       "        vertical-align: top;\n",
       "    }\n",
       "\n",
       "    .dataframe thead th {\n",
       "        text-align: right;\n",
       "    }\n",
       "</style>\n",
       "<table border=\"1\" class=\"dataframe\">\n",
       "  <thead>\n",
       "    <tr style=\"text-align: right;\">\n",
       "      <th></th>\n",
       "      <th>CANONICAL_SMILES</th>\n",
       "      <th>INCHIKEY</th>\n",
       "      <th>common_name</th>\n",
       "      <th>action_type</th>\n",
       "      <th>dataset</th>\n",
       "      <th>active</th>\n",
       "    </tr>\n",
       "  </thead>\n",
       "  <tbody>\n",
       "    <tr>\n",
       "      <th>32447</th>\n",
       "      <td>NS(=O)(=O)Cc1noc2ccccc12</td>\n",
       "      <td>UBQNRHZMVUUOMG-UHFFFAOYSA-N</td>\n",
       "      <td>ZONISAMIDE</td>\n",
       "      <td>substrate</td>\n",
       "      <td>ChEMBL_curated</td>\n",
       "      <td>True</td>\n",
       "    </tr>\n",
       "    <tr>\n",
       "      <th>31260</th>\n",
       "      <td>Oc1cc2cc(CCN3CCN(c4nsc5ccccc45)CC3)c(Cl)cc2[nH]1</td>\n",
       "      <td>CARRCRVKWDEWCD-UHFFFAOYSA-N</td>\n",
       "      <td>ZIPRASIDONE</td>\n",
       "      <td>substrate</td>\n",
       "      <td>ChEMBL_curated</td>\n",
       "      <td>True</td>\n",
       "    </tr>\n",
       "    <tr>\n",
       "      <th>45230</th>\n",
       "      <td>CCC1=C[C@@H]2CN(C1)Cc1c([nH]c3ccccc13)[C@@](C(...</td>\n",
       "      <td>GBABOYUKABKIAF-IELIFDKJSA-N</td>\n",
       "      <td>VINORELBINE</td>\n",
       "      <td>substrate</td>\n",
       "      <td>ChEMBL_curated</td>\n",
       "      <td>True</td>\n",
       "    </tr>\n",
       "    <tr>\n",
       "      <th>17351</th>\n",
       "      <td>CC[C@]1(O)C[C@H]2CN(CCc3c([nH]c4ccccc34)[C@@](...</td>\n",
       "      <td>OGWKCGZFUXNPDA-XQKSVPLYSA-N</td>\n",
       "      <td>VINCRISTINE</td>\n",
       "      <td>substrate</td>\n",
       "      <td>ChEMBL_curated</td>\n",
       "      <td>True</td>\n",
       "    </tr>\n",
       "    <tr>\n",
       "      <th>24927</th>\n",
       "      <td>CC[C@]1(O)C[C@@H]2CN(CCc3c([nH]c4ccccc34)[C@@]...</td>\n",
       "      <td>JXLYSJRDGCGARV-CFWMRBGOSA-N</td>\n",
       "      <td>VINBLASTINE</td>\n",
       "      <td>substrate</td>\n",
       "      <td>ChEMBL_curated</td>\n",
       "      <td>True</td>\n",
       "    </tr>\n",
       "    <tr>\n",
       "      <th>...</th>\n",
       "      <td>...</td>\n",
       "      <td>...</td>\n",
       "      <td>...</td>\n",
       "      <td>...</td>\n",
       "      <td>...</td>\n",
       "      <td>...</td>\n",
       "    </tr>\n",
       "    <tr>\n",
       "      <th>6776</th>\n",
       "      <td>CCOC(=O)C1=C(COCCN)N=C(C)C(C(=O)OC)C1c1ccccc1Cl</td>\n",
       "      <td>YMDXSGBNCBQYGC-UHFFFAOYSA-N</td>\n",
       "      <td>AMLODIPINE</td>\n",
       "      <td>substrate</td>\n",
       "      <td>ChEMBL_curated</td>\n",
       "      <td>True</td>\n",
       "    </tr>\n",
       "    <tr>\n",
       "      <th>42998</th>\n",
       "      <td>Cc1nnc2n1-c1ccc(Cl)cc1C(c1ccccc1)=NC2</td>\n",
       "      <td>VREFGVBLTWBCJP-UHFFFAOYSA-N</td>\n",
       "      <td>ALPRAZOLAM</td>\n",
       "      <td>substrate</td>\n",
       "      <td>ChEMBL_curated</td>\n",
       "      <td>True</td>\n",
       "    </tr>\n",
       "    <tr>\n",
       "      <th>28274</th>\n",
       "      <td>COc1cc2nc(N(C)CCCNC(=O)C3CCCO3)nc(N)c2cc1OC</td>\n",
       "      <td>WNMJYKCGWZFFKR-UHFFFAOYSA-N</td>\n",
       "      <td>ALFUZOSIN</td>\n",
       "      <td>substrate</td>\n",
       "      <td>ChEMBL_curated</td>\n",
       "      <td>True</td>\n",
       "    </tr>\n",
       "    <tr>\n",
       "      <th>45222</th>\n",
       "      <td>CCC(=O)N(c1ccccc1)C1(COC)CCN(CCn2nnn(CC)c2=O)CC1</td>\n",
       "      <td>IDBPHNDTYPBSNI-UHFFFAOYSA-N</td>\n",
       "      <td>ALFENTANIL</td>\n",
       "      <td>substrate</td>\n",
       "      <td>ChEMBL_curated</td>\n",
       "      <td>True</td>\n",
       "    </tr>\n",
       "    <tr>\n",
       "      <th>37532</th>\n",
       "      <td>CC(=O)[C@@]1(O)CC[C@H]2[C@@H]3CC(C)=C4CC(=O)CC...</td>\n",
       "      <td>QOVGIKUHSFCSIK-NWUMPJBXSA-N</td>\n",
       "      <td>NaN</td>\n",
       "      <td>substrate</td>\n",
       "      <td>ChEMBL_curated</td>\n",
       "      <td>True</td>\n",
       "    </tr>\n",
       "  </tbody>\n",
       "</table>\n",
       "<p>117 rows × 6 columns</p>\n",
       "</div>"
      ],
      "text/plain": [
       "                                        CANONICAL_SMILES  \\\n",
       "32447                           NS(=O)(=O)Cc1noc2ccccc12   \n",
       "31260   Oc1cc2cc(CCN3CCN(c4nsc5ccccc45)CC3)c(Cl)cc2[nH]1   \n",
       "45230  CCC1=C[C@@H]2CN(C1)Cc1c([nH]c3ccccc13)[C@@](C(...   \n",
       "17351  CC[C@]1(O)C[C@H]2CN(CCc3c([nH]c4ccccc34)[C@@](...   \n",
       "24927  CC[C@]1(O)C[C@@H]2CN(CCc3c([nH]c4ccccc34)[C@@]...   \n",
       "...                                                  ...   \n",
       "6776     CCOC(=O)C1=C(COCCN)N=C(C)C(C(=O)OC)C1c1ccccc1Cl   \n",
       "42998              Cc1nnc2n1-c1ccc(Cl)cc1C(c1ccccc1)=NC2   \n",
       "28274        COc1cc2nc(N(C)CCCNC(=O)C3CCCO3)nc(N)c2cc1OC   \n",
       "45222   CCC(=O)N(c1ccccc1)C1(COC)CCN(CCn2nnn(CC)c2=O)CC1   \n",
       "37532  CC(=O)[C@@]1(O)CC[C@H]2[C@@H]3CC(C)=C4CC(=O)CC...   \n",
       "\n",
       "                          INCHIKEY  common_name action_type         dataset  \\\n",
       "32447  UBQNRHZMVUUOMG-UHFFFAOYSA-N   ZONISAMIDE   substrate  ChEMBL_curated   \n",
       "31260  CARRCRVKWDEWCD-UHFFFAOYSA-N  ZIPRASIDONE   substrate  ChEMBL_curated   \n",
       "45230  GBABOYUKABKIAF-IELIFDKJSA-N  VINORELBINE   substrate  ChEMBL_curated   \n",
       "17351  OGWKCGZFUXNPDA-XQKSVPLYSA-N  VINCRISTINE   substrate  ChEMBL_curated   \n",
       "24927  JXLYSJRDGCGARV-CFWMRBGOSA-N  VINBLASTINE   substrate  ChEMBL_curated   \n",
       "...                            ...          ...         ...             ...   \n",
       "6776   YMDXSGBNCBQYGC-UHFFFAOYSA-N   AMLODIPINE   substrate  ChEMBL_curated   \n",
       "42998  VREFGVBLTWBCJP-UHFFFAOYSA-N   ALPRAZOLAM   substrate  ChEMBL_curated   \n",
       "28274  WNMJYKCGWZFFKR-UHFFFAOYSA-N    ALFUZOSIN   substrate  ChEMBL_curated   \n",
       "45222  IDBPHNDTYPBSNI-UHFFFAOYSA-N   ALFENTANIL   substrate  ChEMBL_curated   \n",
       "37532  QOVGIKUHSFCSIK-NWUMPJBXSA-N          NaN   substrate  ChEMBL_curated   \n",
       "\n",
       "       active  \n",
       "32447    True  \n",
       "31260    True  \n",
       "45230    True  \n",
       "17351    True  \n",
       "24927    True  \n",
       "...       ...  \n",
       "6776     True  \n",
       "42998    True  \n",
       "28274    True  \n",
       "45222    True  \n",
       "37532    True  \n",
       "\n",
       "[117 rows x 6 columns]"
      ]
     },
     "execution_count": 31,
     "metadata": {},
     "output_type": "execute_result"
    }
   ],
   "source": [
    "clean_deduped"
   ]
  },
  {
   "cell_type": "code",
   "execution_count": null,
   "id": "f2537277-c8dd-47db-aaaa-cef84bd09f83",
   "metadata": {},
   "outputs": [],
   "source": []
  }
 ],
 "metadata": {
  "kernelspec": {
   "display_name": "Python 3 (ipykernel)",
   "language": "python",
   "name": "python3"
  },
  "language_info": {
   "codemirror_mode": {
    "name": "ipython",
    "version": 3
   },
   "file_extension": ".py",
   "mimetype": "text/x-python",
   "name": "python",
   "nbconvert_exporter": "python",
   "pygments_lexer": "ipython3",
   "version": "3.12.7"
  }
 },
 "nbformat": 4,
 "nbformat_minor": 5
}
