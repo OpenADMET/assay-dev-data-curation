{
 "cells": [
  {
   "cell_type": "code",
   "execution_count": 5,
   "id": "76df4cca-4f39-41da-8b02-5e36909e8f31",
   "metadata": {},
   "outputs": [],
   "source": [
    "import pandas as pd\n",
    "from rdkit import Chem\n",
    "import seaborn as sns\n",
    "from tqdm import tqdm\n",
    "import numpy as np"
   ]
  },
  {
   "cell_type": "code",
   "execution_count": 6,
   "id": "af80b0f3-6a36-4d8a-bce8-8b88f82c2d0f",
   "metadata": {},
   "outputs": [],
   "source": [
    "tqdm.pandas()\n"
   ]
  },
  {
   "cell_type": "code",
   "execution_count": 7,
   "id": "c5b36c82-0a1d-4c5c-8fd4-cb9eb05d970b",
   "metadata": {},
   "outputs": [],
   "source": [
    "df = pd.read_csv(\"./Flockheart/3215928552366675329.txt\", sep=\"\\t\")"
   ]
  },
  {
   "cell_type": "code",
   "execution_count": 8,
   "id": "8175154e-7a13-4953-ab04-db647b21bb69",
   "metadata": {},
   "outputs": [
    {
     "data": {
      "text/html": [
       "<div>\n",
       "<style scoped>\n",
       "    .dataframe tbody tr th:only-of-type {\n",
       "        vertical-align: middle;\n",
       "    }\n",
       "\n",
       "    .dataframe tbody tr th {\n",
       "        vertical-align: top;\n",
       "    }\n",
       "\n",
       "    .dataframe thead th {\n",
       "        text-align: right;\n",
       "    }\n",
       "</style>\n",
       "<table border=\"1\" class=\"dataframe\">\n",
       "  <thead>\n",
       "    <tr style=\"text-align: right;\">\n",
       "      <th></th>\n",
       "      <th>Drug</th>\n",
       "      <th>SMILES</th>\n",
       "    </tr>\n",
       "  </thead>\n",
       "  <tbody>\n",
       "    <tr>\n",
       "      <th>0</th>\n",
       "      <td>abemaciclib</td>\n",
       "      <td>CCN1CCN(CC1)CC2=CN=C(C=C2)NC3=NC=C(C(=N3)C4=CC...</td>\n",
       "    </tr>\n",
       "    <tr>\n",
       "      <th>1</th>\n",
       "      <td>abiraterone</td>\n",
       "      <td>C[C@]12CC[C@@H](CC1=CC[C@@H]3[C@@H]2CC[C@]4([C...</td>\n",
       "    </tr>\n",
       "    <tr>\n",
       "      <th>2</th>\n",
       "      <td>acalabrutinib</td>\n",
       "      <td>CC#CC(=O)N1CCC[C@H]1C2=NC(=C3N2C=CN=C3N)C4=CC=...</td>\n",
       "    </tr>\n",
       "    <tr>\n",
       "      <th>3</th>\n",
       "      <td>alectinib</td>\n",
       "      <td>CCC1=CC2=C(C=C1N3CCC(CC3)N4CCOCC4)C(C5=C(C2=O)...</td>\n",
       "    </tr>\n",
       "    <tr>\n",
       "      <th>4</th>\n",
       "      <td>alfentanil</td>\n",
       "      <td>CCC(=O)N(C1=CC=CC=C1)C2(CCN(CC2)CCN3C(=O)N(N=N...</td>\n",
       "    </tr>\n",
       "    <tr>\n",
       "      <th>...</th>\n",
       "      <td>...</td>\n",
       "      <td>...</td>\n",
       "    </tr>\n",
       "    <tr>\n",
       "      <th>206</th>\n",
       "      <td>vorapaxar</td>\n",
       "      <td>CCOC(=O)N[C@@H]1CC[C@@H]2[C@@H](C1)C[C@@H]3[C@...</td>\n",
       "    </tr>\n",
       "    <tr>\n",
       "      <th>207</th>\n",
       "      <td>voriconazole</td>\n",
       "      <td>C[C@@H](C1=NC=NC=C1F)[C@](CN2C=NC=N2)(C3=C(C=C...</td>\n",
       "    </tr>\n",
       "    <tr>\n",
       "      <th>208</th>\n",
       "      <td>zaleplon</td>\n",
       "      <td>CCN(C1=CC=CC(=C1)C2=CC=NC3=C(C=NN23)C#N)C(=O)C</td>\n",
       "    </tr>\n",
       "    <tr>\n",
       "      <th>209</th>\n",
       "      <td>ziprasidone</td>\n",
       "      <td>C1CN(CCN1CCC2=C(C=C3C(=C2)CC(=O)N3)Cl)C4=NSC5=...</td>\n",
       "    </tr>\n",
       "    <tr>\n",
       "      <th>210</th>\n",
       "      <td>zolpidem</td>\n",
       "      <td>CC1=CC=C(C=C1)C2=C(N3C=C(C=CC3=N2)C)CC(=O)N(C)C</td>\n",
       "    </tr>\n",
       "  </tbody>\n",
       "</table>\n",
       "<p>211 rows × 2 columns</p>\n",
       "</div>"
      ],
      "text/plain": [
       "              Drug                                             SMILES\n",
       "0      abemaciclib  CCN1CCN(CC1)CC2=CN=C(C=C2)NC3=NC=C(C(=N3)C4=CC...\n",
       "1      abiraterone  C[C@]12CC[C@@H](CC1=CC[C@@H]3[C@@H]2CC[C@]4([C...\n",
       "2    acalabrutinib  CC#CC(=O)N1CCC[C@H]1C2=NC(=C3N2C=CN=C3N)C4=CC=...\n",
       "3        alectinib  CCC1=CC2=C(C=C1N3CCC(CC3)N4CCOCC4)C(C5=C(C2=O)...\n",
       "4       alfentanil  CCC(=O)N(C1=CC=CC=C1)C2(CCN(CC2)CCN3C(=O)N(N=N...\n",
       "..             ...                                                ...\n",
       "206      vorapaxar  CCOC(=O)N[C@@H]1CC[C@@H]2[C@@H](C1)C[C@@H]3[C@...\n",
       "207   voriconazole  C[C@@H](C1=NC=NC=C1F)[C@](CN2C=NC=N2)(C3=C(C=C...\n",
       "208       zaleplon     CCN(C1=CC=CC(=C1)C2=CC=NC3=C(C=NN23)C#N)C(=O)C\n",
       "209    ziprasidone  C1CN(CCN1CCC2=C(C=C3C(=C2)CC(=O)N3)Cl)C4=NSC5=...\n",
       "210       zolpidem    CC1=CC=C(C=C1)C2=C(N3C=C(C=CC3=N2)C)CC(=O)N(C)C\n",
       "\n",
       "[211 rows x 2 columns]"
      ]
     },
     "execution_count": 8,
     "metadata": {},
     "output_type": "execute_result"
    }
   ],
   "source": [
    "df"
   ]
  },
  {
   "cell_type": "code",
   "execution_count": 9,
   "id": "ef85e60a-81bd-4cc9-8a25-63888a7ffe47",
   "metadata": {},
   "outputs": [],
   "source": [
    "# standardisation of SMILES\n",
    "from rdkit import Chem\n",
    "from rdkit.Chem.MolStandardize import rdMolStandardize\n",
    "from rdkit.rdBase import BlockLogs\n",
    "import mols2grid"
   ]
  },
  {
   "cell_type": "code",
   "execution_count": 10,
   "id": "0e25c21f-1a89-4297-a842-c90bd9925e44",
   "metadata": {},
   "outputs": [],
   "source": [
    "\n",
    "# from Pat Walters method\n",
    "def standardize_smiles(smiles):\n",
    "    try:\n",
    "        # follows the steps in\n",
    "        # https://github.com/greglandrum/RSC_OpenScience_Standardization_202104/blob/main/MolStandardize%20pieces.ipynb\n",
    "        # as described **excellently** (by Greg) in\n",
    "        # https://www.youtube.com/watch?v=eWTApNX8dJQ\n",
    "        mol = Chem.MolFromSmiles(smiles)\n",
    "    \n",
    "        # removeHs, disconnect metal atoms, normalize the molecule, reionize the molecule\n",
    "        clean_mol = rdMolStandardize.Cleanup(mol)\n",
    "    \n",
    "        # if many fragments, get the \"parent\" (the actual mol we are interested in) \n",
    "        parent_clean_mol = rdMolStandardize.FragmentParent(clean_mol)\n",
    "    \n",
    "        # try to neutralize molecule\n",
    "        uncharger = rdMolStandardize.Uncharger()  # annoying, but necessary as no convenience method exists\n",
    "        uncharged_parent_clean_mol = uncharger.uncharge(parent_clean_mol)\n",
    "    \n",
    "        # note that no attempt is made at reionization at this step\n",
    "        # nor at ionization at some pH (rdkit has no pKa caculator)\n",
    "        # the main aim to represent all molecules from different sources\n",
    "        # in a (single) standard way, for use in ML, catalogue, etc.\n",
    "    \n",
    "        te = rdMolStandardize.TautomerEnumerator()  # idem\n",
    "        taut_uncharged_parent_clean_mol = te.Canonicalize(uncharged_parent_clean_mol)\n",
    "    \n",
    "        return Chem.MolToSmiles(taut_uncharged_parent_clean_mol)\n",
    "    except:\n",
    "        return pd.NA"
   ]
  },
  {
   "cell_type": "code",
   "execution_count": 11,
   "id": "646475cd-795e-4211-8d6b-7b48df10f3bd",
   "metadata": {},
   "outputs": [],
   "source": [
    "def smi_to_inchikey(smiles):\n",
    "    try:\n",
    "        mol = Chem.MolFromSmiles(smiles)\n",
    "        return Chem.MolToInchiKey(mol)\n",
    "    except:\n",
    "        return pd.NA"
   ]
  },
  {
   "cell_type": "code",
   "execution_count": 12,
   "id": "b94468a3-a12a-4d4f-b8dd-e03dd29ec8fa",
   "metadata": {},
   "outputs": [
    {
     "name": "stderr",
     "output_type": "stream",
     "text": [
      "\n",
      "00%|██████████████████████████████████████████████████████████████████████████████████████████████████████████████████████████████████████████████████| 211/211 [00:07<00:00, 27.63it/s]"
     ]
    }
   ],
   "source": [
    "\n",
    "with BlockLogs():\n",
    "    df[\"CANONICAL_SMILES\"] = df[\"SMILES\"].progress_apply(lambda x: standardize_smiles(x))"
   ]
  },
  {
   "cell_type": "code",
   "execution_count": 13,
   "id": "f2129167-281d-476d-b6c6-d591c813a1de",
   "metadata": {},
   "outputs": [
    {
     "name": "stderr",
     "output_type": "stream",
     "text": [
      "\n",
      "00%|████████████████████████████████████████████████████████████████████████████████████████████████████████████████████████████████████████████████| 211/211 [00:00<00:00, 3098.60it/s]"
     ]
    }
   ],
   "source": [
    "# compute inchikeys\n",
    "with BlockLogs():\n",
    "    df[\"INCHIKEY\"] = df[\"CANONICAL_SMILES\"].progress_apply(lambda x: smi_to_inchikey(x))"
   ]
  },
  {
   "cell_type": "code",
   "execution_count": 15,
   "id": "2b462edb-daeb-4c17-b3fd-e3ea3bf5c4ea",
   "metadata": {},
   "outputs": [],
   "source": [
    "df[\"dataset\"] = \"flockheart\"\n",
    "df[\"action_type\"] = \"substrate\"\n",
    "df[\"active\"] = True"
   ]
  },
  {
   "cell_type": "code",
   "execution_count": 16,
   "id": "1d9a7883-bfbf-4eca-a093-55f9c2837a96",
   "metadata": {},
   "outputs": [],
   "source": [
    "df.to_csv(\"processed/flockheart.csv\", index=False)"
   ]
  },
  {
   "cell_type": "code",
   "execution_count": null,
   "id": "62e5e155-551c-4a2c-9093-6fdd06f3c81e",
   "metadata": {},
   "outputs": [],
   "source": []
  }
 ],
 "metadata": {
  "kernelspec": {
   "display_name": "Python 3 (ipykernel)",
   "language": "python",
   "name": "python3"
  },
  "language_info": {
   "codemirror_mode": {
    "name": "ipython",
    "version": 3
   },
   "file_extension": ".py",
   "mimetype": "text/x-python",
   "name": "python",
   "nbconvert_exporter": "python",
   "pygments_lexer": "ipython3",
   "version": "3.12.7"
  }
 },
 "nbformat": 4,
 "nbformat_minor": 5
}
