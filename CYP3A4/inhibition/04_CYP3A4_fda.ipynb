{
 "cells": [
  {
   "cell_type": "code",
   "execution_count": 1,
   "id": "e22fb9ed-6351-4131-8aeb-3a7810966d6b",
   "metadata": {},
   "outputs": [],
   "source": [
    "import pandas as pd\n",
    "from rdkit import Chem\n",
    "import seaborn as sns\n",
    "from tqdm import tqdm\n",
    "import numpy as np\n",
    "\n",
    "tqdm.pandas()"
   ]
  },
  {
   "cell_type": "code",
   "execution_count": 2,
   "id": "746f3463-8a86-4799-8cb9-dfc4927f0148",
   "metadata": {},
   "outputs": [
    {
     "data": {
      "text/html": [
       "<div>\n",
       "<style scoped>\n",
       "    .dataframe tbody tr th:only-of-type {\n",
       "        vertical-align: middle;\n",
       "    }\n",
       "\n",
       "    .dataframe tbody tr th {\n",
       "        vertical-align: top;\n",
       "    }\n",
       "\n",
       "    .dataframe thead th {\n",
       "        text-align: right;\n",
       "    }\n",
       "</style>\n",
       "<table border=\"1\" class=\"dataframe\">\n",
       "  <thead>\n",
       "    <tr style=\"text-align: right;\">\n",
       "      <th></th>\n",
       "      <th>SMILES</th>\n",
       "      <th>active</th>\n",
       "      <th>common_name</th>\n",
       "      <th>action_type</th>\n",
       "      <th>FDA_recommended</th>\n",
       "      <th>dataset</th>\n",
       "      <th>INCHIKEY</th>\n",
       "    </tr>\n",
       "  </thead>\n",
       "  <tbody>\n",
       "    <tr>\n",
       "      <th>0</th>\n",
       "      <td>CC(=O)N1CCN(c2ccc(OCC3COC(Cn4ccnc4)(c4ccc(Cl)c...</td>\n",
       "      <td>True</td>\n",
       "      <td>ketoconazole</td>\n",
       "      <td>inhibitor</td>\n",
       "      <td>True</td>\n",
       "      <td>FDA</td>\n",
       "      <td>NaN</td>\n",
       "    </tr>\n",
       "    <tr>\n",
       "      <th>1</th>\n",
       "      <td>CCC(C)n1ncn(-c2ccc(N3CCN(c4ccc(OC[C@H]5CO[C@](...</td>\n",
       "      <td>True</td>\n",
       "      <td>itraconazole</td>\n",
       "      <td>inhibitor</td>\n",
       "      <td>True</td>\n",
       "      <td>FDA</td>\n",
       "      <td>NaN</td>\n",
       "    </tr>\n",
       "    <tr>\n",
       "      <th>2</th>\n",
       "      <td>OC(Cn1cncn1)(Cn1cncn1)c1ccc(F)cc1F</td>\n",
       "      <td>True</td>\n",
       "      <td>fluconazole</td>\n",
       "      <td>inhibitor</td>\n",
       "      <td>True</td>\n",
       "      <td>FDA</td>\n",
       "      <td>NaN</td>\n",
       "    </tr>\n",
       "    <tr>\n",
       "      <th>3</th>\n",
       "      <td>CC[C@H]1OC(=O)[C@H](C)[C@@H](O[C@H]2C[C@@](C)(...</td>\n",
       "      <td>True</td>\n",
       "      <td>clarithromycin</td>\n",
       "      <td>inhibitor</td>\n",
       "      <td>True</td>\n",
       "      <td>FDA</td>\n",
       "      <td>NaN</td>\n",
       "    </tr>\n",
       "    <tr>\n",
       "      <th>4</th>\n",
       "      <td>CC[C@]1(C)C[C@@H](OC(=O)CSc2nnc(N)[nH]2)[C@]2(...</td>\n",
       "      <td>True</td>\n",
       "      <td>azamulin</td>\n",
       "      <td>inhibitor</td>\n",
       "      <td>True</td>\n",
       "      <td>FDA</td>\n",
       "      <td>NaN</td>\n",
       "    </tr>\n",
       "    <tr>\n",
       "      <th>5</th>\n",
       "      <td>CC[C@H]1OC(=O)[C@H](C)[C@@H](O[C@H]2C[C@@](C)(...</td>\n",
       "      <td>True</td>\n",
       "      <td>erythromycin</td>\n",
       "      <td>inhibitor</td>\n",
       "      <td>True</td>\n",
       "      <td>FDA</td>\n",
       "      <td>NaN</td>\n",
       "    </tr>\n",
       "    <tr>\n",
       "      <th>6</th>\n",
       "      <td>COc1ccc(CCN(C)CCCC(C#N)(c2ccc(OC)c(OC)c2)C(C)C...</td>\n",
       "      <td>True</td>\n",
       "      <td>verapamil</td>\n",
       "      <td>inhibitor</td>\n",
       "      <td>True</td>\n",
       "      <td>FDA</td>\n",
       "      <td>NaN</td>\n",
       "    </tr>\n",
       "    <tr>\n",
       "      <th>7</th>\n",
       "      <td>CO[C@H]1C[C@H](O[C@H]2[C@H](C)[C@@H](O[C@@H]3O...</td>\n",
       "      <td>True</td>\n",
       "      <td>troleandomycin</td>\n",
       "      <td>inhibitor</td>\n",
       "      <td>True</td>\n",
       "      <td>FDA</td>\n",
       "      <td>NaN</td>\n",
       "    </tr>\n",
       "  </tbody>\n",
       "</table>\n",
       "</div>"
      ],
      "text/plain": [
       "                                              SMILES active      common_name  \\\n",
       "0  CC(=O)N1CCN(c2ccc(OCC3COC(Cn4ccnc4)(c4ccc(Cl)c...   True     ketoconazole   \n",
       "1  CCC(C)n1ncn(-c2ccc(N3CCN(c4ccc(OC[C@H]5CO[C@](...   True     itraconazole   \n",
       "2                 OC(Cn1cncn1)(Cn1cncn1)c1ccc(F)cc1F   True      fluconazole   \n",
       "3  CC[C@H]1OC(=O)[C@H](C)[C@@H](O[C@H]2C[C@@](C)(...   True   clarithromycin   \n",
       "4  CC[C@]1(C)C[C@@H](OC(=O)CSc2nnc(N)[nH]2)[C@]2(...   True         azamulin   \n",
       "5  CC[C@H]1OC(=O)[C@H](C)[C@@H](O[C@H]2C[C@@](C)(...   True     erythromycin   \n",
       "6  COc1ccc(CCN(C)CCCC(C#N)(c2ccc(OC)c(OC)c2)C(C)C...   True        verapamil   \n",
       "7  CO[C@H]1C[C@H](O[C@H]2[C@H](C)[C@@H](O[C@@H]3O...   True   troleandomycin   \n",
       "\n",
       "  action_type FDA_recommended dataset  INCHIKEY  \n",
       "0   inhibitor            True     FDA       NaN  \n",
       "1   inhibitor            True     FDA       NaN  \n",
       "2   inhibitor            True     FDA       NaN  \n",
       "3   inhibitor            True     FDA       NaN  \n",
       "4   inhibitor            True     FDA       NaN  \n",
       "5   inhibitor            True     FDA       NaN  \n",
       "6   inhibitor            True     FDA       NaN  \n",
       "7   inhibitor            True     FDA       NaN  "
      ]
     },
     "execution_count": 2,
     "metadata": {},
     "output_type": "execute_result"
    }
   ],
   "source": [
    "fda = pd.read_csv(\"FDA/fda.csv\")\n",
    "fda"
   ]
  },
  {
   "cell_type": "code",
   "execution_count": 3,
   "id": "12de7e49-6dfd-498e-a386-79269145cb9b",
   "metadata": {},
   "outputs": [],
   "source": [
    "# standardisation of SMILES\n",
    "from rdkit import Chem\n",
    "from rdkit.Chem.MolStandardize import rdMolStandardize\n",
    "from rdkit.rdBase import BlockLogs\n",
    "import mols2grid"
   ]
  },
  {
   "cell_type": "code",
   "execution_count": 4,
   "id": "6392fe04-b8f4-4372-9545-46df474a6d54",
   "metadata": {},
   "outputs": [],
   "source": [
    "\n",
    "# from Pat Walters method\n",
    "def standardize_smiles(smiles):\n",
    "    try:\n",
    "        # follows the steps in\n",
    "        # https://github.com/greglandrum/RSC_OpenScience_Standardization_202104/blob/main/MolStandardize%20pieces.ipynb\n",
    "        # as described **excellently** (by Greg) in\n",
    "        # https://www.youtube.com/watch?v=eWTApNX8dJQ\n",
    "        mol = Chem.MolFromSmiles(smiles)\n",
    "    \n",
    "        # removeHs, disconnect metal atoms, normalize the molecule, reionize the molecule\n",
    "        clean_mol = rdMolStandardize.Cleanup(mol)\n",
    "    \n",
    "        # if many fragments, get the \"parent\" (the actual mol we are interested in) \n",
    "        parent_clean_mol = rdMolStandardize.FragmentParent(clean_mol)\n",
    "    \n",
    "        # try to neutralize molecule\n",
    "        uncharger = rdMolStandardize.Uncharger()  # annoying, but necessary as no convenience method exists\n",
    "        uncharged_parent_clean_mol = uncharger.uncharge(parent_clean_mol)\n",
    "    \n",
    "        # note that no attempt is made at reionization at this step\n",
    "        # nor at ionization at some pH (rdkit has no pKa caculator)\n",
    "        # the main aim to represent all molecules from different sources\n",
    "        # in a (single) standard way, for use in ML, catalogue, etc.\n",
    "    \n",
    "        te = rdMolStandardize.TautomerEnumerator()  # idem\n",
    "        taut_uncharged_parent_clean_mol = te.Canonicalize(uncharged_parent_clean_mol)\n",
    "    \n",
    "        return Chem.MolToSmiles(taut_uncharged_parent_clean_mol)\n",
    "    except:\n",
    "        return pd.NA"
   ]
  },
  {
   "cell_type": "code",
   "execution_count": 5,
   "id": "d03180d1-d62b-4a28-9738-fcd97a611916",
   "metadata": {},
   "outputs": [
    {
     "name": "stderr",
     "output_type": "stream",
     "text": [
      "100%|█████████████████████████████████████████████████████████████████████████████████████████████████████████████████████████████████████████████████████| 8/8 [00:00<00:00, 102.97it/s]\n"
     ]
    }
   ],
   "source": [
    "\n",
    "with BlockLogs():\n",
    "    fda[\"CANONICAL_SMILES\"] = fda[\"SMILES\"].progress_apply(lambda x: standardize_smiles(x))"
   ]
  },
  {
   "cell_type": "code",
   "execution_count": 6,
   "id": "44459f1a-c7e5-4feb-80f8-7d73682b857a",
   "metadata": {},
   "outputs": [],
   "source": [
    "def smi_to_inchikey(smiles):\n",
    "    try:\n",
    "        mol = Chem.MolFromSmiles(smiles)\n",
    "        return Chem.MolToInchiKey(mol)\n",
    "    except:\n",
    "        return pd.NA"
   ]
  },
  {
   "cell_type": "code",
   "execution_count": 7,
   "id": "c287f425-d18a-46f6-af38-b472a71b53e1",
   "metadata": {},
   "outputs": [
    {
     "name": "stderr",
     "output_type": "stream",
     "text": [
      "100%|████████████████████████████████████████████████████████████████████████████████████████████████████████████████████████████████████████████████████| 8/8 [00:00<00:00, 2495.31it/s]\n"
     ]
    }
   ],
   "source": [
    "# compute inchikeys\n",
    "with BlockLogs():\n",
    "    fda[\"INCHIKEY\"] = fda[\"CANONICAL_SMILES\"].progress_apply(lambda x: smi_to_inchikey(x))"
   ]
  },
  {
   "cell_type": "code",
   "execution_count": 8,
   "id": "1e9fa4b6-ee08-41c1-8d7c-3cebaebec3d4",
   "metadata": {},
   "outputs": [],
   "source": [
    "fda[\"dataset\"] = \"FDA\""
   ]
  },
  {
   "cell_type": "code",
   "execution_count": 9,
   "id": "be2e8ea9-0972-4741-8e99-c12b33b5b1f2",
   "metadata": {},
   "outputs": [],
   "source": [
    "fda.drop(columns=\"SMILES\", inplace=True)"
   ]
  },
  {
   "cell_type": "code",
   "execution_count": 10,
   "id": "90fa9309-597f-4813-a352-1bac556236c1",
   "metadata": {},
   "outputs": [],
   "source": [
    "fda.to_csv(\"processed/fda.csv\", index=False)"
   ]
  },
  {
   "cell_type": "code",
   "execution_count": null,
   "id": "21cce443-f79f-4968-b54f-a9e47e3def48",
   "metadata": {},
   "outputs": [],
   "source": []
  }
 ],
 "metadata": {
  "kernelspec": {
   "display_name": "Python 3 (ipykernel)",
   "language": "python",
   "name": "python3"
  },
  "language_info": {
   "codemirror_mode": {
    "name": "ipython",
    "version": 3
   },
   "file_extension": ".py",
   "mimetype": "text/x-python",
   "name": "python",
   "nbconvert_exporter": "python",
   "pygments_lexer": "ipython3",
   "version": "3.12.7"
  }
 },
 "nbformat": 4,
 "nbformat_minor": 5
}
