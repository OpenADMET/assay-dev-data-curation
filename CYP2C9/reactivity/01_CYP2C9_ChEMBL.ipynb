{
 "cells": [
  {
   "cell_type": "code",
   "execution_count": 2,
   "id": "a758fc03-3502-4721-adc4-db2b380e7671",
   "metadata": {},
   "outputs": [],
   "source": [
    "import pandas as pd\n",
    "from rdkit import Chem\n",
    "import seaborn as sns\n",
    "from tqdm import tqdm\n",
    "import numpy as np"
   ]
  },
  {
   "cell_type": "code",
   "execution_count": 3,
   "id": "608040d2-a223-4fa2-9967-41f67a1f78cc",
   "metadata": {},
   "outputs": [],
   "source": [
    "tqdm.pandas()\n"
   ]
  },
  {
   "cell_type": "code",
   "execution_count": 4,
   "id": "13a05526-db75-4fca-bdf8-b4266aa1981d",
   "metadata": {},
   "outputs": [],
   "source": [
    "chembl = pd.read_csv(\"ChEMBL/ChEMBL3397.csv\", sep=\";\")"
   ]
  },
  {
   "cell_type": "code",
   "execution_count": 5,
   "id": "6ab8b63a-84e6-448f-bced-dec856ec1397",
   "metadata": {},
   "outputs": [
    {
     "data": {
      "text/html": [
       "<div>\n",
       "<style scoped>\n",
       "    .dataframe tbody tr th:only-of-type {\n",
       "        vertical-align: middle;\n",
       "    }\n",
       "\n",
       "    .dataframe tbody tr th {\n",
       "        vertical-align: top;\n",
       "    }\n",
       "\n",
       "    .dataframe thead th {\n",
       "        text-align: right;\n",
       "    }\n",
       "</style>\n",
       "<table border=\"1\" class=\"dataframe\">\n",
       "  <thead>\n",
       "    <tr style=\"text-align: right;\">\n",
       "      <th></th>\n",
       "      <th>Molecule ChEMBL ID</th>\n",
       "      <th>Molecule Name</th>\n",
       "      <th>Molecule Max Phase</th>\n",
       "      <th>Molecular Weight</th>\n",
       "      <th>#RO5 Violations</th>\n",
       "      <th>AlogP</th>\n",
       "      <th>Compound Key</th>\n",
       "      <th>Smiles</th>\n",
       "      <th>Standard Type</th>\n",
       "      <th>Standard Relation</th>\n",
       "      <th>...</th>\n",
       "      <th>Document ChEMBL ID</th>\n",
       "      <th>Source ID</th>\n",
       "      <th>Source Description</th>\n",
       "      <th>Document Journal</th>\n",
       "      <th>Document Year</th>\n",
       "      <th>Cell ChEMBL ID</th>\n",
       "      <th>Properties</th>\n",
       "      <th>Action Type</th>\n",
       "      <th>Standard Text Value</th>\n",
       "      <th>Value</th>\n",
       "    </tr>\n",
       "  </thead>\n",
       "  <tbody>\n",
       "    <tr>\n",
       "      <th>0</th>\n",
       "      <td>CHEMBL5178464</td>\n",
       "      <td>NaN</td>\n",
       "      <td>NaN</td>\n",
       "      <td>378.41</td>\n",
       "      <td>0.0</td>\n",
       "      <td>3.56</td>\n",
       "      <td>21</td>\n",
       "      <td>COc1cccc(F)c1CNc1ccc(-c2cnc(C)nc2C)c2nncn12</td>\n",
       "      <td>IC50</td>\n",
       "      <td>'&gt;'</td>\n",
       "      <td>...</td>\n",
       "      <td>CHEMBL5154826</td>\n",
       "      <td>1</td>\n",
       "      <td>Scientific Literature</td>\n",
       "      <td>J Med Chem</td>\n",
       "      <td>2022.0</td>\n",
       "      <td>NaN</td>\n",
       "      <td>TIME = 0.1667 hr</td>\n",
       "      <td>NaN</td>\n",
       "      <td>NaN</td>\n",
       "      <td>20.000</td>\n",
       "    </tr>\n",
       "    <tr>\n",
       "      <th>1</th>\n",
       "      <td>CHEMBL151096</td>\n",
       "      <td>NaN</td>\n",
       "      <td>NaN</td>\n",
       "      <td>217.27</td>\n",
       "      <td>0.0</td>\n",
       "      <td>3.52</td>\n",
       "      <td>21</td>\n",
       "      <td>CCCCOc1ccc(-c2cocn2)cc1</td>\n",
       "      <td>NT</td>\n",
       "      <td>NaN</td>\n",
       "      <td>...</td>\n",
       "      <td>CHEMBL1145921</td>\n",
       "      <td>1</td>\n",
       "      <td>Scientific Literature</td>\n",
       "      <td>J Med Chem</td>\n",
       "      <td>2003.0</td>\n",
       "      <td>NaN</td>\n",
       "      <td>NaN</td>\n",
       "      <td>NaN</td>\n",
       "      <td>NaN</td>\n",
       "      <td>NaN</td>\n",
       "    </tr>\n",
       "    <tr>\n",
       "      <th>2</th>\n",
       "      <td>CHEMBL1835784</td>\n",
       "      <td>NaN</td>\n",
       "      <td>NaN</td>\n",
       "      <td>369.51</td>\n",
       "      <td>0.0</td>\n",
       "      <td>3.53</td>\n",
       "      <td>5s</td>\n",
       "      <td>C[C@@H]1CCCN1CCCOc1ccc(C2=NN(C)C(=O)C3CCCC23)cc1</td>\n",
       "      <td>IC50</td>\n",
       "      <td>'&gt;'</td>\n",
       "      <td>...</td>\n",
       "      <td>CHEMBL1833909</td>\n",
       "      <td>1</td>\n",
       "      <td>Scientific Literature</td>\n",
       "      <td>Bioorg Med Chem Lett</td>\n",
       "      <td>2011.0</td>\n",
       "      <td>NaN</td>\n",
       "      <td>NaN</td>\n",
       "      <td>NaN</td>\n",
       "      <td>NaN</td>\n",
       "      <td>30.000</td>\n",
       "    </tr>\n",
       "    <tr>\n",
       "      <th>3</th>\n",
       "      <td>CHEMBL1433673</td>\n",
       "      <td>NaN</td>\n",
       "      <td>NaN</td>\n",
       "      <td>NaN</td>\n",
       "      <td>NaN</td>\n",
       "      <td>NaN</td>\n",
       "      <td>SID11112480</td>\n",
       "      <td>NaN</td>\n",
       "      <td>AC50</td>\n",
       "      <td>NaN</td>\n",
       "      <td>...</td>\n",
       "      <td>CHEMBL1201862</td>\n",
       "      <td>7</td>\n",
       "      <td>PubChem BioAssays</td>\n",
       "      <td>NaN</td>\n",
       "      <td>NaN</td>\n",
       "      <td>NaN</td>\n",
       "      <td>NaN</td>\n",
       "      <td>NaN</td>\n",
       "      <td>NaN</td>\n",
       "      <td>NaN</td>\n",
       "    </tr>\n",
       "    <tr>\n",
       "      <th>4</th>\n",
       "      <td>CHEMBL1571061</td>\n",
       "      <td>NaN</td>\n",
       "      <td>NaN</td>\n",
       "      <td>498.57</td>\n",
       "      <td>0.0</td>\n",
       "      <td>4.24</td>\n",
       "      <td>SID17384930</td>\n",
       "      <td>Cc1cc(CNC(=O)[C@@H]2C[C@H]2[C@@H](NP(=O)(c2ccc...</td>\n",
       "      <td>AC50</td>\n",
       "      <td>NaN</td>\n",
       "      <td>...</td>\n",
       "      <td>CHEMBL1201862</td>\n",
       "      <td>7</td>\n",
       "      <td>PubChem BioAssays</td>\n",
       "      <td>NaN</td>\n",
       "      <td>NaN</td>\n",
       "      <td>NaN</td>\n",
       "      <td>NaN</td>\n",
       "      <td>NaN</td>\n",
       "      <td>NaN</td>\n",
       "      <td>NaN</td>\n",
       "    </tr>\n",
       "    <tr>\n",
       "      <th>...</th>\n",
       "      <td>...</td>\n",
       "      <td>...</td>\n",
       "      <td>...</td>\n",
       "      <td>...</td>\n",
       "      <td>...</td>\n",
       "      <td>...</td>\n",
       "      <td>...</td>\n",
       "      <td>...</td>\n",
       "      <td>...</td>\n",
       "      <td>...</td>\n",
       "      <td>...</td>\n",
       "      <td>...</td>\n",
       "      <td>...</td>\n",
       "      <td>...</td>\n",
       "      <td>...</td>\n",
       "      <td>...</td>\n",
       "      <td>...</td>\n",
       "      <td>...</td>\n",
       "      <td>...</td>\n",
       "      <td>...</td>\n",
       "      <td>...</td>\n",
       "    </tr>\n",
       "    <tr>\n",
       "      <th>32452</th>\n",
       "      <td>CHEMBL563</td>\n",
       "      <td>FLURBIPROFEN</td>\n",
       "      <td>4.0</td>\n",
       "      <td>244.26</td>\n",
       "      <td>0.0</td>\n",
       "      <td>3.68</td>\n",
       "      <td>FP</td>\n",
       "      <td>CC(C(=O)O)c1ccc(-c2ccccc2)c(F)c1</td>\n",
       "      <td>Drug metabolism</td>\n",
       "      <td>NaN</td>\n",
       "      <td>...</td>\n",
       "      <td>CHEMBL5356989</td>\n",
       "      <td>1</td>\n",
       "      <td>Scientific Literature</td>\n",
       "      <td>RSC Med Chem</td>\n",
       "      <td>2023.0</td>\n",
       "      <td>NaN</td>\n",
       "      <td>DOSE_Lower = 1.0 microM | DOSE_Upper = 5.0 mic...</td>\n",
       "      <td>BINDING AGENT</td>\n",
       "      <td>NaN</td>\n",
       "      <td>NaN</td>\n",
       "    </tr>\n",
       "    <tr>\n",
       "      <th>32453</th>\n",
       "      <td>CHEMBL256907</td>\n",
       "      <td>NaN</td>\n",
       "      <td>NaN</td>\n",
       "      <td>513.68</td>\n",
       "      <td>2.0</td>\n",
       "      <td>5.95</td>\n",
       "      <td>1</td>\n",
       "      <td>Cc1nnc(C(C)C)n1[C@H]1C[C@H]2CC[C@@H](C1)N2CC[C...</td>\n",
       "      <td>IC50</td>\n",
       "      <td>'='</td>\n",
       "      <td>...</td>\n",
       "      <td>CHEMBL5150068</td>\n",
       "      <td>1</td>\n",
       "      <td>Scientific Literature</td>\n",
       "      <td>J Med Chem</td>\n",
       "      <td>2022.0</td>\n",
       "      <td>NaN</td>\n",
       "      <td>NaN</td>\n",
       "      <td>INHIBITOR</td>\n",
       "      <td>NaN</td>\n",
       "      <td>14.400</td>\n",
       "    </tr>\n",
       "    <tr>\n",
       "      <th>32454</th>\n",
       "      <td>CHEMBL376488</td>\n",
       "      <td>BEDAQUILINE</td>\n",
       "      <td>4.0</td>\n",
       "      <td>555.52</td>\n",
       "      <td>2.0</td>\n",
       "      <td>7.13</td>\n",
       "      <td>1; TMC207,R207910</td>\n",
       "      <td>COc1nc2ccc(Br)cc2cc1[C@@H](c1ccccc1)[C@@](O)(C...</td>\n",
       "      <td>IC50</td>\n",
       "      <td>'&gt;'</td>\n",
       "      <td>...</td>\n",
       "      <td>CHEMBL5113423</td>\n",
       "      <td>1</td>\n",
       "      <td>Scientific Literature</td>\n",
       "      <td>Bioorg Med Chem Lett</td>\n",
       "      <td>2022.0</td>\n",
       "      <td>NaN</td>\n",
       "      <td>NaN</td>\n",
       "      <td>NaN</td>\n",
       "      <td>NaN</td>\n",
       "      <td>10.000</td>\n",
       "    </tr>\n",
       "    <tr>\n",
       "      <th>32455</th>\n",
       "      <td>CHEMBL308954</td>\n",
       "      <td>ETRAVIRINE</td>\n",
       "      <td>4.0</td>\n",
       "      <td>435.29</td>\n",
       "      <td>0.0</td>\n",
       "      <td>4.72</td>\n",
       "      <td>ETR; 1</td>\n",
       "      <td>Cc1cc(C#N)cc(C)c1Oc1nc(Nc2ccc(C#N)cc2)nc(N)c1Br</td>\n",
       "      <td>IC50</td>\n",
       "      <td>'='</td>\n",
       "      <td>...</td>\n",
       "      <td>CHEMBL5331107</td>\n",
       "      <td>1</td>\n",
       "      <td>Scientific Literature</td>\n",
       "      <td>J Med Chem</td>\n",
       "      <td>2023.0</td>\n",
       "      <td>NaN</td>\n",
       "      <td>TIME = 0.3333 hr</td>\n",
       "      <td>INHIBITOR</td>\n",
       "      <td>NaN</td>\n",
       "      <td>0.277</td>\n",
       "    </tr>\n",
       "    <tr>\n",
       "      <th>32456</th>\n",
       "      <td>CHEMBL1109</td>\n",
       "      <td>SULFAPHENAZOLE</td>\n",
       "      <td>4.0</td>\n",
       "      <td>314.37</td>\n",
       "      <td>0.0</td>\n",
       "      <td>2.26</td>\n",
       "      <td>sulfaphenazole</td>\n",
       "      <td>Nc1ccc(S(=O)(=O)Nc2ccnn2-c2ccccc2)cc1</td>\n",
       "      <td>IC50</td>\n",
       "      <td>'='</td>\n",
       "      <td>...</td>\n",
       "      <td>CHEMBL5113493</td>\n",
       "      <td>1</td>\n",
       "      <td>Scientific Literature</td>\n",
       "      <td>Eur J Med Chem</td>\n",
       "      <td>2022.0</td>\n",
       "      <td>NaN</td>\n",
       "      <td>NaN</td>\n",
       "      <td>INHIBITOR</td>\n",
       "      <td>NaN</td>\n",
       "      <td>0.245</td>\n",
       "    </tr>\n",
       "  </tbody>\n",
       "</table>\n",
       "<p>32457 rows × 48 columns</p>\n",
       "</div>"
      ],
      "text/plain": [
       "      Molecule ChEMBL ID   Molecule Name  Molecule Max Phase  \\\n",
       "0          CHEMBL5178464             NaN                 NaN   \n",
       "1           CHEMBL151096             NaN                 NaN   \n",
       "2          CHEMBL1835784             NaN                 NaN   \n",
       "3          CHEMBL1433673             NaN                 NaN   \n",
       "4          CHEMBL1571061             NaN                 NaN   \n",
       "...                  ...             ...                 ...   \n",
       "32452          CHEMBL563    FLURBIPROFEN                 4.0   \n",
       "32453       CHEMBL256907             NaN                 NaN   \n",
       "32454       CHEMBL376488     BEDAQUILINE                 4.0   \n",
       "32455       CHEMBL308954      ETRAVIRINE                 4.0   \n",
       "32456         CHEMBL1109  SULFAPHENAZOLE                 4.0   \n",
       "\n",
       "       Molecular Weight  #RO5 Violations  AlogP       Compound Key  \\\n",
       "0                378.41              0.0   3.56                 21   \n",
       "1                217.27              0.0   3.52                 21   \n",
       "2                369.51              0.0   3.53                 5s   \n",
       "3                   NaN              NaN    NaN        SID11112480   \n",
       "4                498.57              0.0   4.24        SID17384930   \n",
       "...                 ...              ...    ...                ...   \n",
       "32452            244.26              0.0   3.68                 FP   \n",
       "32453            513.68              2.0   5.95                  1   \n",
       "32454            555.52              2.0   7.13  1; TMC207,R207910   \n",
       "32455            435.29              0.0   4.72             ETR; 1   \n",
       "32456            314.37              0.0   2.26     sulfaphenazole   \n",
       "\n",
       "                                                  Smiles    Standard Type  \\\n",
       "0            COc1cccc(F)c1CNc1ccc(-c2cnc(C)nc2C)c2nncn12             IC50   \n",
       "1                                CCCCOc1ccc(-c2cocn2)cc1               NT   \n",
       "2       C[C@@H]1CCCN1CCCOc1ccc(C2=NN(C)C(=O)C3CCCC23)cc1             IC50   \n",
       "3                                                    NaN             AC50   \n",
       "4      Cc1cc(CNC(=O)[C@@H]2C[C@H]2[C@@H](NP(=O)(c2ccc...             AC50   \n",
       "...                                                  ...              ...   \n",
       "32452                   CC(C(=O)O)c1ccc(-c2ccccc2)c(F)c1  Drug metabolism   \n",
       "32453  Cc1nnc(C(C)C)n1[C@H]1C[C@H]2CC[C@@H](C1)N2CC[C...             IC50   \n",
       "32454  COc1nc2ccc(Br)cc2cc1[C@@H](c1ccccc1)[C@@](O)(C...             IC50   \n",
       "32455    Cc1cc(C#N)cc(C)c1Oc1nc(Nc2ccc(C#N)cc2)nc(N)c1Br             IC50   \n",
       "32456              Nc1ccc(S(=O)(=O)Nc2ccnn2-c2ccccc2)cc1             IC50   \n",
       "\n",
       "      Standard Relation  ...  Document ChEMBL ID Source ID  \\\n",
       "0                   '>'  ...       CHEMBL5154826         1   \n",
       "1                   NaN  ...       CHEMBL1145921         1   \n",
       "2                   '>'  ...       CHEMBL1833909         1   \n",
       "3                   NaN  ...       CHEMBL1201862         7   \n",
       "4                   NaN  ...       CHEMBL1201862         7   \n",
       "...                 ...  ...                 ...       ...   \n",
       "32452               NaN  ...       CHEMBL5356989         1   \n",
       "32453               '='  ...       CHEMBL5150068         1   \n",
       "32454               '>'  ...       CHEMBL5113423         1   \n",
       "32455               '='  ...       CHEMBL5331107         1   \n",
       "32456               '='  ...       CHEMBL5113493         1   \n",
       "\n",
       "          Source Description      Document Journal Document Year  \\\n",
       "0      Scientific Literature            J Med Chem        2022.0   \n",
       "1      Scientific Literature            J Med Chem        2003.0   \n",
       "2      Scientific Literature  Bioorg Med Chem Lett        2011.0   \n",
       "3          PubChem BioAssays                   NaN           NaN   \n",
       "4          PubChem BioAssays                   NaN           NaN   \n",
       "...                      ...                   ...           ...   \n",
       "32452  Scientific Literature          RSC Med Chem        2023.0   \n",
       "32453  Scientific Literature            J Med Chem        2022.0   \n",
       "32454  Scientific Literature  Bioorg Med Chem Lett        2022.0   \n",
       "32455  Scientific Literature            J Med Chem        2023.0   \n",
       "32456  Scientific Literature        Eur J Med Chem        2022.0   \n",
       "\n",
       "      Cell ChEMBL ID                                         Properties  \\\n",
       "0                NaN                                   TIME = 0.1667 hr   \n",
       "1                NaN                                                NaN   \n",
       "2                NaN                                                NaN   \n",
       "3                NaN                                                NaN   \n",
       "4                NaN                                                NaN   \n",
       "...              ...                                                ...   \n",
       "32452            NaN  DOSE_Lower = 1.0 microM | DOSE_Upper = 5.0 mic...   \n",
       "32453            NaN                                                NaN   \n",
       "32454            NaN                                                NaN   \n",
       "32455            NaN                                   TIME = 0.3333 hr   \n",
       "32456            NaN                                                NaN   \n",
       "\n",
       "         Action Type  Standard Text Value   Value  \n",
       "0                NaN                  NaN  20.000  \n",
       "1                NaN                  NaN     NaN  \n",
       "2                NaN                  NaN  30.000  \n",
       "3                NaN                  NaN     NaN  \n",
       "4                NaN                  NaN     NaN  \n",
       "...              ...                  ...     ...  \n",
       "32452  BINDING AGENT                  NaN     NaN  \n",
       "32453      INHIBITOR                  NaN  14.400  \n",
       "32454            NaN                  NaN  10.000  \n",
       "32455      INHIBITOR                  NaN   0.277  \n",
       "32456      INHIBITOR                  NaN   0.245  \n",
       "\n",
       "[32457 rows x 48 columns]"
      ]
     },
     "execution_count": 5,
     "metadata": {},
     "output_type": "execute_result"
    }
   ],
   "source": [
    "chembl"
   ]
  },
  {
   "cell_type": "code",
   "execution_count": 6,
   "id": "70e28a1f-fb4d-4106-a829-55557c313e1e",
   "metadata": {},
   "outputs": [
    {
     "data": {
      "text/plain": [
       "Index(['Molecule ChEMBL ID', 'Molecule Name', 'Molecule Max Phase',\n",
       "       'Molecular Weight', '#RO5 Violations', 'AlogP', 'Compound Key',\n",
       "       'Smiles', 'Standard Type', 'Standard Relation', 'Standard Value',\n",
       "       'Standard Units', 'pChEMBL Value', 'Data Validity Comment', 'Comment',\n",
       "       'Uo Units', 'Ligand Efficiency BEI', 'Ligand Efficiency LE',\n",
       "       'Ligand Efficiency LLE', 'Ligand Efficiency SEI', 'Potential Duplicate',\n",
       "       'Assay ChEMBL ID', 'Assay Description', 'Assay Type', 'BAO Format ID',\n",
       "       'BAO Label', 'Assay Organism', 'Assay Tissue ChEMBL ID',\n",
       "       'Assay Tissue Name', 'Assay Cell Type', 'Assay Subcellular Fraction',\n",
       "       'Assay Parameters', 'Assay Variant Accession', 'Assay Variant Mutation',\n",
       "       'Target ChEMBL ID', 'Target Name', 'Target Organism', 'Target Type',\n",
       "       'Document ChEMBL ID', 'Source ID', 'Source Description',\n",
       "       'Document Journal', 'Document Year', 'Cell ChEMBL ID', 'Properties',\n",
       "       'Action Type', 'Standard Text Value', 'Value'],\n",
       "      dtype='object')"
      ]
     },
     "execution_count": 6,
     "metadata": {},
     "output_type": "execute_result"
    }
   ],
   "source": [
    "chembl.columns"
   ]
  },
  {
   "cell_type": "code",
   "execution_count": 7,
   "id": "6fa3277a-5c32-468f-9a4c-f14ca555d91b",
   "metadata": {},
   "outputs": [
    {
     "data": {
      "text/plain": [
       "Data Validity Comment\n",
       "Outside typical range            175\n",
       "Potential missing data             4\n",
       "Potential transcription error      1\n",
       "Name: count, dtype: int64"
      ]
     },
     "execution_count": 7,
     "metadata": {},
     "output_type": "execute_result"
    }
   ],
   "source": [
    "chembl[\"Data Validity Comment\"].value_counts()"
   ]
  },
  {
   "cell_type": "code",
   "execution_count": 8,
   "id": "a9901477-19a7-4f90-87c2-5a4b53613941",
   "metadata": {},
   "outputs": [
    {
     "data": {
      "text/plain": [
       "Action Type\n",
       "INHIBITOR        724\n",
       "SUBSTRATE          6\n",
       "BINDING AGENT      4\n",
       "Name: count, dtype: int64"
      ]
     },
     "execution_count": 8,
     "metadata": {},
     "output_type": "execute_result"
    }
   ],
   "source": [
    "chembl[\"Action Type\"].value_counts()"
   ]
  },
  {
   "cell_type": "code",
   "execution_count": 9,
   "id": "7e3266e8-7718-405a-a766-57ebccd328fc",
   "metadata": {},
   "outputs": [
    {
     "data": {
      "text/plain": [
       "Standard Units\n",
       "nM              16444\n",
       "%                3316\n",
       "uM                313\n",
       "hr                 13\n",
       "pmol/min           12\n",
       "uL/min              9\n",
       "nmol/min            8\n",
       "min                 4\n",
       "/min                3\n",
       "uL/min/pmol         3\n",
       "min-1               3\n",
       "10'-4/min           2\n",
       "mM                  2\n",
       "ug.mL-1             2\n",
       "/min/microM         2\n",
       "/uM/min             2\n",
       "ml/min/nmol         1\n",
       "mL.min-1.g-1        1\n",
       "Name: count, dtype: int64"
      ]
     },
     "execution_count": 9,
     "metadata": {},
     "output_type": "execute_result"
    }
   ],
   "source": [
    "chembl[\"Standard Units\"].value_counts()"
   ]
  },
  {
   "cell_type": "code",
   "execution_count": 10,
   "id": "c46b85df-5a75-4c55-ba68-0ae0b6c0c45e",
   "metadata": {},
   "outputs": [
    {
     "data": {
      "text/plain": [
       "Standard Type\n",
       "AC50                          17143\n",
       "IC50                           6845\n",
       "Potency                        3082\n",
       "Inhibition                     2970\n",
       "Ki                             1038\n",
       "Activity                        524\n",
       "INH                             288\n",
       "FC                              152\n",
       "Drug metabolism                 128\n",
       "TDI                             105\n",
       "EC50                             36\n",
       "Stability                        30\n",
       "Ratio IC50                       19\n",
       "T1/2                             13\n",
       "Km                               12\n",
       "Vmax                             11\n",
       "CL                               10\n",
       "IC90                              8\n",
       "mechanism based inhibition        7\n",
       "Kinact                            4\n",
       "NT                                3\n",
       "Activation                        3\n",
       "CLH                               3\n",
       "Ratio                             3\n",
       "pIC50                             3\n",
       "Control of P-450 marker           2\n",
       "Compound recovery                 2\n",
       "Partition ratio                   2\n",
       "Fm                                2\n",
       "Kcat/Km                           2\n",
       "Ks                                2\n",
       "Kcat                              2\n",
       "Retention_time                    1\n",
       "Kd                                1\n",
       "Vmax/Km                           1\n",
       "Name: count, dtype: int64"
      ]
     },
     "execution_count": 10,
     "metadata": {},
     "output_type": "execute_result"
    }
   ],
   "source": [
    "chembl[\"Standard Type\"].value_counts()"
   ]
  },
  {
   "cell_type": "code",
   "execution_count": 11,
   "id": "ca7ce78e-b414-4035-bd57-79b5f0324035",
   "metadata": {},
   "outputs": [
    {
     "data": {
      "text/plain": [
       "<Axes: xlabel='pChEMBL Value', ylabel='Count'>"
      ]
     },
     "execution_count": 11,
     "metadata": {},
     "output_type": "execute_result"
    },
    {
     "data": {
      "image/png": "[encoded data removed]",
      "text/plain": [
       "<Figure size 640x480 with 1 Axes>"
      ]
     },
     "metadata": {},
     "output_type": "display_data"
    }
   ],
   "source": [
    "sns.histplot(data=chembl, x=\"pChEMBL Value\", hue=\"Assay Type\")"
   ]
  },
  {
   "cell_type": "code",
   "execution_count": 12,
   "id": "53ef58c1-f0b1-42b1-b799-01abaa4c5e79",
   "metadata": {},
   "outputs": [
    {
     "data": {
      "text/plain": [
       "<Axes: xlabel='Action Type', ylabel='count'>"
      ]
     },
     "execution_count": 12,
     "metadata": {},
     "output_type": "execute_result"
    },
    {
     "data": {
      "image/png": "[encoded data removed]",
      "text/plain": [
       "<Figure size 640x480 with 1 Axes>"
      ]
     },
     "metadata": {},
     "output_type": "display_data"
    }
   ],
   "source": [
    "sns.countplot(data=chembl, x=\"Action Type\")"
   ]
  },
  {
   "cell_type": "code",
   "execution_count": null,
   "id": "a9d85bb3-2754-4483-a1a1-a7d7a5799fba",
   "metadata": {},
   "outputs": [],
   "source": []
  },
  {
   "cell_type": "code",
   "execution_count": 13,
   "id": "4f708bdf-7097-4100-87e4-c045d134eed7",
   "metadata": {},
   "outputs": [
    {
     "data": {
      "text/plain": [
       "26243"
      ]
     },
     "execution_count": 13,
     "metadata": {},
     "output_type": "execute_result"
    }
   ],
   "source": [
    "n_mol = chembl[\"Molecule ChEMBL ID\"].nunique()\n",
    "n_mol"
   ]
  },
  {
   "cell_type": "code",
   "execution_count": 14,
   "id": "1bb0613e-e2f8-44d4-bd88-ae7762493226",
   "metadata": {},
   "outputs": [
    {
     "data": {
      "text/plain": [
       "2995"
      ]
     },
     "execution_count": 14,
     "metadata": {},
     "output_type": "execute_result"
    }
   ],
   "source": [
    "n_assays = chembl[\"Assay ChEMBL ID\"].nunique()\n",
    "n_assays"
   ]
  },
  {
   "cell_type": "code",
   "execution_count": 15,
   "id": "8d2fce10-94c7-43c1-a331-0108785d4061",
   "metadata": {},
   "outputs": [],
   "source": [
    "\n",
    "# from Pat Walters method\n",
    "def standardize_smiles(smiles):\n",
    "    try:\n",
    "        # follows the steps in\n",
    "        # https://github.com/greglandrum/RSC_OpenScience_Standardization_202104/blob/main/MolStandardize%20pieces.ipynb\n",
    "        # as described **excellently** (by Greg) in\n",
    "        # https://www.youtube.com/watch?v=eWTApNX8dJQ\n",
    "        mol = Chem.MolFromSmiles(smiles)\n",
    "    \n",
    "        # removeHs, disconnect metal atoms, normalize the molecule, reionize the molecule\n",
    "        clean_mol = rdMolStandardize.Cleanup(mol)\n",
    "    \n",
    "        # if many fragments, get the \"parent\" (the actual mol we are interested in) \n",
    "        parent_clean_mol = rdMolStandardize.FragmentParent(clean_mol)\n",
    "    \n",
    "        # try to neutralize molecule\n",
    "        uncharger = rdMolStandardize.Uncharger()  # annoying, but necessary as no convenience method exists\n",
    "        uncharged_parent_clean_mol = uncharger.uncharge(parent_clean_mol)\n",
    "    \n",
    "        # note that no attempt is made at reionization at this step\n",
    "        # nor at ionization at some pH (rdkit has no pKa caculator)\n",
    "        # the main aim to represent all molecules from different sources\n",
    "        # in a (single) standard way, for use in ML, catalogue, etc.\n",
    "    \n",
    "        te = rdMolStandardize.TautomerEnumerator()  # idem\n",
    "        taut_uncharged_parent_clean_mol = te.Canonicalize(uncharged_parent_clean_mol)\n",
    "    \n",
    "        return Chem.MolToSmiles(taut_uncharged_parent_clean_mol)\n",
    "    except:\n",
    "        return pd.NA"
   ]
  },
  {
   "cell_type": "code",
   "execution_count": 16,
   "id": "9b3c89e5-9417-4caf-ac38-e4df968ba11d",
   "metadata": {},
   "outputs": [],
   "source": [
    "# standardisation of SMILES\n",
    "from rdkit import Chem\n",
    "from rdkit.Chem.MolStandardize import rdMolStandardize\n",
    "from rdkit.rdBase import BlockLogs\n",
    "import mols2grid"
   ]
  },
  {
   "cell_type": "code",
   "execution_count": 17,
   "id": "eddf586c-9bfd-4244-8445-38855c678987",
   "metadata": {},
   "outputs": [
    {
     "name": "stderr",
     "output_type": "stream",
     "text": [
      "100%|█████████████████████████████████████████████████████████████████████████████████████████████████████████████████████████████████████████████| 32457/32457 [04:15<00:00, 127.02it/s]\n"
     ]
    }
   ],
   "source": [
    "\n",
    "with BlockLogs():\n",
    "    chembl[\"CANONICAL_SMILES\"] = chembl[\"Smiles\"].progress_apply(lambda x: standardize_smiles(x))"
   ]
  },
  {
   "cell_type": "code",
   "execution_count": 18,
   "id": "68f89667-e140-4125-8a93-f5c51b8f3855",
   "metadata": {},
   "outputs": [],
   "source": [
    "def smi_to_inchikey(smiles):\n",
    "    try:\n",
    "        mol = Chem.MolFromSmiles(smiles)\n",
    "        return Chem.MolToInchiKey(mol)\n",
    "    except:\n",
    "        return pd.NA"
   ]
  },
  {
   "cell_type": "code",
   "execution_count": 19,
   "id": "9a9811a3-f8e6-4e23-a950-f968dcfa732b",
   "metadata": {},
   "outputs": [
    {
     "name": "stderr",
     "output_type": "stream",
     "text": [
      "100%|████████████████████████████████████████████████████████████████████████████████████████████████████████████████████████████████████████████| 32457/32457 [00:08<00:00, 3645.52it/s]\n"
     ]
    }
   ],
   "source": [
    "# compute inchikeys\n",
    "with BlockLogs():\n",
    "    chembl[\"INCHIKEY\"] = chembl[\"CANONICAL_SMILES\"].progress_apply(lambda x: smi_to_inchikey(x))"
   ]
  },
  {
   "cell_type": "code",
   "execution_count": 20,
   "id": "aa8ecb50-bce7-44a7-bb14-fc63a4b9f0a5",
   "metadata": {},
   "outputs": [],
   "source": [
    "substrates = chembl[chembl[\"Action Type\"] == \"SUBSTRATE\"]"
   ]
  },
  {
   "cell_type": "code",
   "execution_count": 21,
   "id": "8656fea7-ef8b-478d-af34-f92b87e6d9f7",
   "metadata": {},
   "outputs": [
    {
     "data": {
      "text/plain": [
       "6"
      ]
     },
     "execution_count": 21,
     "metadata": {},
     "output_type": "execute_result"
    }
   ],
   "source": [
    "substrates.INCHIKEY.nunique()"
   ]
  },
  {
   "cell_type": "code",
   "execution_count": 22,
   "id": "a5370de0-f873-4aa2-a514-1e6e9af6630d",
   "metadata": {},
   "outputs": [
    {
     "data": {
      "text/plain": [
       "6"
      ]
     },
     "execution_count": 22,
     "metadata": {},
     "output_type": "execute_result"
    }
   ],
   "source": [
    "len(substrates.INCHIKEY)"
   ]
  },
  {
   "cell_type": "code",
   "execution_count": 23,
   "id": "0843bd7f-0659-44c2-9020-345ab39e4038",
   "metadata": {},
   "outputs": [],
   "source": [
    "# now clean up \n",
    "keep_cols = [\"CANONICAL_SMILES\", \"INCHIKEY\", \"Molecule Name\", \"Action Type\"]"
   ]
  },
  {
   "cell_type": "code",
   "execution_count": 24,
   "id": "270c564d-ad29-4924-80a0-318ead9e73dd",
   "metadata": {},
   "outputs": [
    {
     "name": "stderr",
     "output_type": "stream",
     "text": [
      "/tmp/ipykernel_29220/1475071475.py:2: SettingWithCopyWarning: \n",
      "A value is trying to be set on a copy of a slice from a DataFrame\n",
      "\n",
      "See the caveats in the documentation: https://pandas.pydata.org/pandas-docs/stable/user_guide/indexing.html#returning-a-view-versus-a-copy\n",
      "  clean_active.rename(columns={\"assay_count\":\"appears_in_N_ChEMBL_assays\", \"Molecule Name\": \"common_name\", \"Action Type\": \"action_type\"}, inplace=True)\n"
     ]
    }
   ],
   "source": [
    "clean_active = substrates[keep_cols]\n",
    "clean_active.rename(columns={\"assay_count\":\"appears_in_N_ChEMBL_assays\", \"Molecule Name\": \"common_name\", \"Action Type\": \"action_type\"}, inplace=True)\n",
    "clean_active_sorted = clean_active.sort_values([\"common_name\", \"action_type\"], ascending=[False, False]) # keep the ones with names if possible\n",
    "clean_deduped = clean_active_sorted.drop_duplicates(subset=\"INCHIKEY\", keep=\"first\")\n"
   ]
  },
  {
   "cell_type": "code",
   "execution_count": 25,
   "id": "e806934e-b397-41d5-8613-1c81a85ee368",
   "metadata": {},
   "outputs": [
    {
     "data": {
      "text/html": [
       "<div>\n",
       "<style scoped>\n",
       "    .dataframe tbody tr th:only-of-type {\n",
       "        vertical-align: middle;\n",
       "    }\n",
       "\n",
       "    .dataframe tbody tr th {\n",
       "        vertical-align: top;\n",
       "    }\n",
       "\n",
       "    .dataframe thead th {\n",
       "        text-align: right;\n",
       "    }\n",
       "</style>\n",
       "<table border=\"1\" class=\"dataframe\">\n",
       "  <thead>\n",
       "    <tr style=\"text-align: right;\">\n",
       "      <th></th>\n",
       "      <th>CANONICAL_SMILES</th>\n",
       "      <th>INCHIKEY</th>\n",
       "      <th>common_name</th>\n",
       "      <th>action_type</th>\n",
       "    </tr>\n",
       "  </thead>\n",
       "  <tbody>\n",
       "    <tr>\n",
       "      <th>7455</th>\n",
       "      <td>CC(C(=O)O)c1ccc(-c2ccccc2)c(F)c1</td>\n",
       "      <td>SYTBZMRGLBWNTM-UHFFFAOYSA-N</td>\n",
       "      <td>FLURBIPROFEN</td>\n",
       "      <td>SUBSTRATE</td>\n",
       "    </tr>\n",
       "    <tr>\n",
       "      <th>16267</th>\n",
       "      <td>O=C(O)Cc1ccccc1Nc1c(Cl)cccc1Cl</td>\n",
       "      <td>DCOPUUMXTXDBNB-UHFFFAOYSA-N</td>\n",
       "      <td>DICLOFENAC</td>\n",
       "      <td>SUBSTRATE</td>\n",
       "    </tr>\n",
       "    <tr>\n",
       "      <th>18896</th>\n",
       "      <td>CCCCNC(=O)NS(=O)(=O)c1ccc(C)cc1</td>\n",
       "      <td>JLRGJRBPOGGCBT-UHFFFAOYSA-N</td>\n",
       "      <td>TOLBUTAMIDE</td>\n",
       "      <td>SUBSTRATE</td>\n",
       "    </tr>\n",
       "    <tr>\n",
       "      <th>22928</th>\n",
       "      <td>CC(=O)C[C@@H](c1ccccc1)c1c(O)c2ccccc2oc1=O</td>\n",
       "      <td>PJVWKTKQMONHTI-HNNXBMFYSA-N</td>\n",
       "      <td>NaN</td>\n",
       "      <td>SUBSTRATE</td>\n",
       "    </tr>\n",
       "    <tr>\n",
       "      <th>27641</th>\n",
       "      <td>CNCCC(Oc1ccc(C(F)(F)F)cc1)c1ccccc1</td>\n",
       "      <td>RTHCYVBBDHJXIQ-UHFFFAOYSA-N</td>\n",
       "      <td>FLUOXETINE</td>\n",
       "      <td>SUBSTRATE</td>\n",
       "    </tr>\n",
       "  </tbody>\n",
       "</table>\n",
       "</div>"
      ],
      "text/plain": [
       "                                 CANONICAL_SMILES  \\\n",
       "7455             CC(C(=O)O)c1ccc(-c2ccccc2)c(F)c1   \n",
       "16267              O=C(O)Cc1ccccc1Nc1c(Cl)cccc1Cl   \n",
       "18896             CCCCNC(=O)NS(=O)(=O)c1ccc(C)cc1   \n",
       "22928  CC(=O)C[C@@H](c1ccccc1)c1c(O)c2ccccc2oc1=O   \n",
       "27641          CNCCC(Oc1ccc(C(F)(F)F)cc1)c1ccccc1   \n",
       "\n",
       "                          INCHIKEY   common_name action_type  \n",
       "7455   SYTBZMRGLBWNTM-UHFFFAOYSA-N  FLURBIPROFEN   SUBSTRATE  \n",
       "16267  DCOPUUMXTXDBNB-UHFFFAOYSA-N    DICLOFENAC   SUBSTRATE  \n",
       "18896  JLRGJRBPOGGCBT-UHFFFAOYSA-N   TOLBUTAMIDE   SUBSTRATE  \n",
       "22928  PJVWKTKQMONHTI-HNNXBMFYSA-N           NaN   SUBSTRATE  \n",
       "27641  RTHCYVBBDHJXIQ-UHFFFAOYSA-N    FLUOXETINE   SUBSTRATE  "
      ]
     },
     "execution_count": 25,
     "metadata": {},
     "output_type": "execute_result"
    }
   ],
   "source": [
    "clean_active.head()"
   ]
  },
  {
   "cell_type": "code",
   "execution_count": 26,
   "id": "372e4bce-1c57-4dde-a400-1c140ed7252d",
   "metadata": {},
   "outputs": [
    {
     "data": {
      "text/plain": [
       "action_type\n",
       "SUBSTRATE    6\n",
       "Name: count, dtype: int64"
      ]
     },
     "execution_count": 26,
     "metadata": {},
     "output_type": "execute_result"
    }
   ],
   "source": [
    "clean_deduped[\"action_type\"].value_counts()"
   ]
  },
  {
   "cell_type": "code",
   "execution_count": 27,
   "id": "14596861-cc0b-4a5d-aec2-7d7c472e5039",
   "metadata": {},
   "outputs": [],
   "source": [
    "clean_deduped[\"action_type\"] = \"substrate\""
   ]
  },
  {
   "cell_type": "code",
   "execution_count": 28,
   "id": "a96b5664-d32d-44db-b46e-afe1e4a4fd32",
   "metadata": {},
   "outputs": [
    {
     "data": {
      "text/plain": [
       "action_type\n",
       "substrate    6\n",
       "Name: count, dtype: int64"
      ]
     },
     "execution_count": 28,
     "metadata": {},
     "output_type": "execute_result"
    }
   ],
   "source": [
    "clean_deduped[\"action_type\"].value_counts()"
   ]
  },
  {
   "cell_type": "code",
   "execution_count": 29,
   "id": "da70c9d9-af88-4a10-9da8-501b42d00019",
   "metadata": {},
   "outputs": [],
   "source": [
    "clean_deduped[\"dataset\"] = \"ChEMBL_curated\"\n",
    "clean_deduped[\"active\"] = True"
   ]
  },
  {
   "cell_type": "code",
   "execution_count": 31,
   "id": "79e057f0-8602-48c2-ad8c-3ff86ff8c753",
   "metadata": {},
   "outputs": [],
   "source": [
    "clean_deduped.to_csv(\"processed/chembl_active.csv\", index=False)"
   ]
  },
  {
   "cell_type": "code",
   "execution_count": null,
   "id": "6b2150cb-57fa-49f9-8ad2-eed4f816a3b7",
   "metadata": {},
   "outputs": [],
   "source": []
  }
 ],
 "metadata": {
  "kernelspec": {
   "display_name": "Python 3 (ipykernel)",
   "language": "python",
   "name": "python3"
  },
  "language_info": {
   "codemirror_mode": {
    "name": "ipython",
    "version": 3
   },
   "file_extension": ".py",
   "mimetype": "text/x-python",
   "name": "python",
   "nbconvert_exporter": "python",
   "pygments_lexer": "ipython3",
   "version": "3.10.13"
  }
 },
 "nbformat": 4,
 "nbformat_minor": 5
}
