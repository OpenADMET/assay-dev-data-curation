{
 "cells": [
  {
   "cell_type": "code",
   "execution_count": 4,
   "id": "76df4cca-4f39-41da-8b02-5e36909e8f31",
   "metadata": {},
   "outputs": [],
   "source": [
    "import pandas as pd\n",
    "from rdkit import Chem\n",
    "import seaborn as sns\n",
    "from tqdm import tqdm\n",
    "import numpy as np"
   ]
  },
  {
   "cell_type": "code",
   "execution_count": 5,
   "id": "af80b0f3-6a36-4d8a-bce8-8b88f82c2d0f",
   "metadata": {},
   "outputs": [],
   "source": [
    "tqdm.pandas()\n"
   ]
  },
  {
   "cell_type": "markdown",
   "id": "b0fa4140-090a-43e1-9b81-390a9980ff2d",
   "metadata": {},
   "source": [
    "# Lee 2010\n",
    "\n",
    "Identification of novel substrates for human cytochrome P450 2J2\n",
    "\n",
    "https://pubmed.ncbi.nlm.nih.gov/19923256/"
   ]
  },
  {
   "cell_type": "code",
   "execution_count": 6,
   "id": "c5b36c82-0a1d-4c5c-8fd4-cb9eb05d970b",
   "metadata": {},
   "outputs": [],
   "source": [
    "df = pd.read_csv(\"./Lee2010/2918329058147784583.txt\", sep=\"\\t\")"
   ]
  },
  {
   "cell_type": "code",
   "execution_count": 7,
   "id": "8175154e-7a13-4953-ab04-db647b21bb69",
   "metadata": {},
   "outputs": [
    {
     "data": {
      "text/html": [
       "<div>\n",
       "<style scoped>\n",
       "    .dataframe tbody tr th:only-of-type {\n",
       "        vertical-align: middle;\n",
       "    }\n",
       "\n",
       "    .dataframe tbody tr th {\n",
       "        vertical-align: top;\n",
       "    }\n",
       "\n",
       "    .dataframe thead th {\n",
       "        text-align: right;\n",
       "    }\n",
       "</style>\n",
       "<table border=\"1\" class=\"dataframe\">\n",
       "  <thead>\n",
       "    <tr style=\"text-align: right;\">\n",
       "      <th></th>\n",
       "      <th>common_name</th>\n",
       "      <th>SMILES</th>\n",
       "    </tr>\n",
       "  </thead>\n",
       "  <tbody>\n",
       "    <tr>\n",
       "      <th>0</th>\n",
       "      <td>albendazole</td>\n",
       "      <td>CCCSC1=CC2=C(C=C1)N=C(N2)NC(=O)OC</td>\n",
       "    </tr>\n",
       "    <tr>\n",
       "      <th>1</th>\n",
       "      <td>amiodarone</td>\n",
       "      <td>CCCCC1=C(C2=CC=CC=C2O1)C(=O)C3=CC(=C(C(=C3)I)O...</td>\n",
       "    </tr>\n",
       "    <tr>\n",
       "      <th>2</th>\n",
       "      <td>astemizole</td>\n",
       "      <td>COC1=CC=C(C=C1)CCN2CCC(CC2)NC3=NC4=CC=CC=C4N3C...</td>\n",
       "    </tr>\n",
       "    <tr>\n",
       "      <th>3</th>\n",
       "      <td>thioridazine</td>\n",
       "      <td>CN1CCCCC1CCN2C3=CC=CC=C3SC4=C2C=C(C=C4)SC</td>\n",
       "    </tr>\n",
       "    <tr>\n",
       "      <th>4</th>\n",
       "      <td>mesoridazine</td>\n",
       "      <td>CN1CCCCC1CCN2C3=CC=CC=C3SC4=C2C=C(C=C4)S(=O)C</td>\n",
       "    </tr>\n",
       "    <tr>\n",
       "      <th>5</th>\n",
       "      <td>danazol</td>\n",
       "      <td>C[C@]12CC[C@H]3[C@H]([C@@H]1CC[C@]2(C#C)O)CCC4...</td>\n",
       "    </tr>\n",
       "  </tbody>\n",
       "</table>\n",
       "</div>"
      ],
      "text/plain": [
       "    common_name                                             SMILES\n",
       "0   albendazole                  CCCSC1=CC2=C(C=C1)N=C(N2)NC(=O)OC\n",
       "1    amiodarone  CCCCC1=C(C2=CC=CC=C2O1)C(=O)C3=CC(=C(C(=C3)I)O...\n",
       "2    astemizole  COC1=CC=C(C=C1)CCN2CCC(CC2)NC3=NC4=CC=CC=C4N3C...\n",
       "3  thioridazine          CN1CCCCC1CCN2C3=CC=CC=C3SC4=C2C=C(C=C4)SC\n",
       "4  mesoridazine      CN1CCCCC1CCN2C3=CC=CC=C3SC4=C2C=C(C=C4)S(=O)C\n",
       "5       danazol  C[C@]12CC[C@H]3[C@H]([C@@H]1CC[C@]2(C#C)O)CCC4..."
      ]
     },
     "execution_count": 7,
     "metadata": {},
     "output_type": "execute_result"
    }
   ],
   "source": [
    "df"
   ]
  },
  {
   "cell_type": "code",
   "execution_count": 8,
   "id": "ef85e60a-81bd-4cc9-8a25-63888a7ffe47",
   "metadata": {},
   "outputs": [],
   "source": [
    "# standardisation of SMILES\n",
    "from rdkit import Chem\n",
    "from rdkit.Chem.MolStandardize import rdMolStandardize\n",
    "from rdkit.rdBase import BlockLogs\n",
    "import mols2grid"
   ]
  },
  {
   "cell_type": "code",
   "execution_count": 9,
   "id": "0e25c21f-1a89-4297-a842-c90bd9925e44",
   "metadata": {},
   "outputs": [],
   "source": [
    "\n",
    "# from Pat Walters method\n",
    "def standardize_smiles(smiles):\n",
    "    try:\n",
    "        # follows the steps in\n",
    "        # https://github.com/greglandrum/RSC_OpenScience_Standardization_202104/blob/main/MolStandardize%20pieces.ipynb\n",
    "        # as described **excellently** (by Greg) in\n",
    "        # https://www.youtube.com/watch?v=eWTApNX8dJQ\n",
    "        mol = Chem.MolFromSmiles(smiles)\n",
    "    \n",
    "        # removeHs, disconnect metal atoms, normalize the molecule, reionize the molecule\n",
    "        clean_mol = rdMolStandardize.Cleanup(mol)\n",
    "    \n",
    "        # if many fragments, get the \"parent\" (the actual mol we are interested in) \n",
    "        parent_clean_mol = rdMolStandardize.FragmentParent(clean_mol)\n",
    "    \n",
    "        # try to neutralize molecule\n",
    "        uncharger = rdMolStandardize.Uncharger()  # annoying, but necessary as no convenience method exists\n",
    "        uncharged_parent_clean_mol = uncharger.uncharge(parent_clean_mol)\n",
    "    \n",
    "        # note that no attempt is made at reionization at this step\n",
    "        # nor at ionization at some pH (rdkit has no pKa caculator)\n",
    "        # the main aim to represent all molecules from different sources\n",
    "        # in a (single) standard way, for use in ML, catalogue, etc.\n",
    "    \n",
    "        te = rdMolStandardize.TautomerEnumerator()  # idem\n",
    "        taut_uncharged_parent_clean_mol = te.Canonicalize(uncharged_parent_clean_mol)\n",
    "    \n",
    "        return Chem.MolToSmiles(taut_uncharged_parent_clean_mol)\n",
    "    except:\n",
    "        return pd.NA"
   ]
  },
  {
   "cell_type": "code",
   "execution_count": 10,
   "id": "646475cd-795e-4211-8d6b-7b48df10f3bd",
   "metadata": {},
   "outputs": [],
   "source": [
    "def smi_to_inchikey(smiles):\n",
    "    try:\n",
    "        mol = Chem.MolFromSmiles(smiles)\n",
    "        return Chem.MolToInchiKey(mol)\n",
    "    except:\n",
    "        return pd.NA"
   ]
  },
  {
   "cell_type": "code",
   "execution_count": 11,
   "id": "b94468a3-a12a-4d4f-b8dd-e03dd29ec8fa",
   "metadata": {},
   "outputs": [
    {
     "name": "stderr",
     "output_type": "stream",
     "text": [
      "100%|█████████████████████████████████████████████████████████████████████████████████████████████████████████████████████████████████████████████████████| 6/6 [00:00<00:00, 287.07it/s]\n"
     ]
    }
   ],
   "source": [
    "\n",
    "with BlockLogs():\n",
    "    df[\"CANONICAL_SMILES\"] = df[\"SMILES\"].progress_apply(lambda x: standardize_smiles(x))"
   ]
  },
  {
   "cell_type": "code",
   "execution_count": 12,
   "id": "f2129167-281d-476d-b6c6-d591c813a1de",
   "metadata": {},
   "outputs": [
    {
     "name": "stderr",
     "output_type": "stream",
     "text": [
      "100%|████████████████████████████████████████████████████████████████████████████████████████████████████████████████████████████████████████████████████| 6/6 [00:00<00:00, 2556.98it/s]\n"
     ]
    }
   ],
   "source": [
    "# compute inchikeys\n",
    "with BlockLogs():\n",
    "    df[\"INCHIKEY\"] = df[\"CANONICAL_SMILES\"].progress_apply(lambda x: smi_to_inchikey(x))"
   ]
  },
  {
   "cell_type": "code",
   "execution_count": 13,
   "id": "2b462edb-daeb-4c17-b3fd-e3ea3bf5c4ea",
   "metadata": {},
   "outputs": [],
   "source": [
    "df[\"dataset\"] = \"lee2010\"\n",
    "df[\"action_type\"] = \"substrate\"\n",
    "df[\"active\"] = True"
   ]
  },
  {
   "cell_type": "code",
   "execution_count": 15,
   "id": "1d9a7883-bfbf-4eca-a093-55f9c2837a96",
   "metadata": {},
   "outputs": [],
   "source": [
    "df.to_csv(\"processed/lee2010.csv\", index=False)"
   ]
  },
  {
   "cell_type": "code",
   "execution_count": null,
   "id": "62e5e155-551c-4a2c-9093-6fdd06f3c81e",
   "metadata": {},
   "outputs": [],
   "source": []
  },
  {
   "cell_type": "code",
   "execution_count": null,
   "id": "97c409bc-4d54-43e0-9061-b663c7fea47d",
   "metadata": {},
   "outputs": [],
   "source": []
  },
  {
   "cell_type": "code",
   "execution_count": null,
   "id": "e2076968-3e22-47c9-a36e-a61a62e1e2b3",
   "metadata": {},
   "outputs": [],
   "source": []
  }
 ],
 "metadata": {
  "kernelspec": {
   "display_name": "Python 3 (ipykernel)",
   "language": "python",
   "name": "python3"
  },
  "language_info": {
   "codemirror_mode": {
    "name": "ipython",
    "version": 3
   },
   "file_extension": ".py",
   "mimetype": "text/x-python",
   "name": "python",
   "nbconvert_exporter": "python",
   "pygments_lexer": "ipython3",
   "version": "3.12.7"
  }
 },
 "nbformat": 4,
 "nbformat_minor": 5
}
